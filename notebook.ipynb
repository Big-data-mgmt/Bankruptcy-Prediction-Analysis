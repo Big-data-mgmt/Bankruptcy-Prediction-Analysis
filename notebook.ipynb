{
 "metadata": {
  "language_info": {
   "codemirror_mode": {
    "name": "ipython",
    "version": 3
   },
   "file_extension": ".py",
   "mimetype": "text/x-python",
   "name": "python",
   "nbconvert_exporter": "python",
   "pygments_lexer": "ipython3",
   "version": "3.9.1"
  },
  "orig_nbformat": 2,
  "kernelspec": {
   "name": "python3",
   "display_name": "Python 3.9.1 64-bit",
   "metadata": {
    "interpreter": {
     "hash": "ac59ebe37160ed0dfa835113d9b8498d9f09ceb179beaac4002f036b9467c963"
    }
   }
  }
 },
 "nbformat": 4,
 "nbformat_minor": 2,
 "cells": [
  {
   "cell_type": "code",
   "execution_count": 1,
   "metadata": {},
   "outputs": [
    {
     "output_type": "error",
     "ename": "FileNotFoundError",
     "evalue": "[Errno 2] No such file or directory: 'C:\\\\studies\\\\first sem docs\\\\BIGDATA\\\\bankruptcy_prediction\\\\FinancialDataSet.csv'",
     "traceback": [
      "\u001b[1;31m---------------------------------------------------------------------------\u001b[0m",
      "\u001b[1;31mFileNotFoundError\u001b[0m                         Traceback (most recent call last)",
      "\u001b[1;32m<ipython-input-1-e41144448a1c>\u001b[0m in \u001b[0;36m<module>\u001b[1;34m\u001b[0m\n\u001b[0;32m     18\u001b[0m \u001b[1;33m\u001b[0m\u001b[0m\n\u001b[0;32m     19\u001b[0m \u001b[1;31m#reading data and removing Nan values\u001b[0m\u001b[1;33m\u001b[0m\u001b[1;33m\u001b[0m\u001b[1;33m\u001b[0m\u001b[0m\n\u001b[1;32m---> 20\u001b[1;33m \u001b[0mdata\u001b[0m \u001b[1;33m=\u001b[0m \u001b[0mpd\u001b[0m\u001b[1;33m.\u001b[0m\u001b[0mread_csv\u001b[0m\u001b[1;33m(\u001b[0m\u001b[1;34m'C:\\\\studies\\\\first sem docs\\\\BIGDATA\\\\bankruptcy_prediction\\\\FinancialDataSet.csv'\u001b[0m\u001b[1;33m,\u001b[0m \u001b[0musecols\u001b[0m\u001b[1;33m=\u001b[0m\u001b[0mnp\u001b[0m\u001b[1;33m.\u001b[0m\u001b[0mr_\u001b[0m\u001b[1;33m[\u001b[0m\u001b[1;36m0\u001b[0m\u001b[1;33m:\u001b[0m\u001b[1;36m66\u001b[0m\u001b[1;33m]\u001b[0m\u001b[1;33m)\u001b[0m\u001b[1;33m\u001b[0m\u001b[1;33m\u001b[0m\u001b[0m\n\u001b[0m\u001b[0;32m     21\u001b[0m \u001b[1;31m#converting object to float\u001b[0m\u001b[1;33m\u001b[0m\u001b[1;33m\u001b[0m\u001b[1;33m\u001b[0m\u001b[0m\n\u001b[0;32m     22\u001b[0m \u001b[1;32mfor\u001b[0m \u001b[0mcol\u001b[0m \u001b[1;32min\u001b[0m \u001b[0mdata\u001b[0m\u001b[1;33m.\u001b[0m\u001b[0mcolumns\u001b[0m\u001b[1;33m:\u001b[0m\u001b[1;33m\u001b[0m\u001b[1;33m\u001b[0m\u001b[0m\n",
      "\u001b[1;32mC:\\Program Files\\Python39\\lib\\site-packages\\pandas\\io\\parsers.py\u001b[0m in \u001b[0;36mread_csv\u001b[1;34m(filepath_or_buffer, sep, delimiter, header, names, index_col, usecols, squeeze, prefix, mangle_dupe_cols, dtype, engine, converters, true_values, false_values, skipinitialspace, skiprows, skipfooter, nrows, na_values, keep_default_na, na_filter, verbose, skip_blank_lines, parse_dates, infer_datetime_format, keep_date_col, date_parser, dayfirst, cache_dates, iterator, chunksize, compression, thousands, decimal, lineterminator, quotechar, quoting, doublequote, escapechar, comment, encoding, dialect, error_bad_lines, warn_bad_lines, delim_whitespace, low_memory, memory_map, float_precision, storage_options)\u001b[0m\n\u001b[0;32m    608\u001b[0m     \u001b[0mkwds\u001b[0m\u001b[1;33m.\u001b[0m\u001b[0mupdate\u001b[0m\u001b[1;33m(\u001b[0m\u001b[0mkwds_defaults\u001b[0m\u001b[1;33m)\u001b[0m\u001b[1;33m\u001b[0m\u001b[1;33m\u001b[0m\u001b[0m\n\u001b[0;32m    609\u001b[0m \u001b[1;33m\u001b[0m\u001b[0m\n\u001b[1;32m--> 610\u001b[1;33m     \u001b[1;32mreturn\u001b[0m \u001b[0m_read\u001b[0m\u001b[1;33m(\u001b[0m\u001b[0mfilepath_or_buffer\u001b[0m\u001b[1;33m,\u001b[0m \u001b[0mkwds\u001b[0m\u001b[1;33m)\u001b[0m\u001b[1;33m\u001b[0m\u001b[1;33m\u001b[0m\u001b[0m\n\u001b[0m\u001b[0;32m    611\u001b[0m \u001b[1;33m\u001b[0m\u001b[0m\n\u001b[0;32m    612\u001b[0m \u001b[1;33m\u001b[0m\u001b[0m\n",
      "\u001b[1;32mC:\\Program Files\\Python39\\lib\\site-packages\\pandas\\io\\parsers.py\u001b[0m in \u001b[0;36m_read\u001b[1;34m(filepath_or_buffer, kwds)\u001b[0m\n\u001b[0;32m    460\u001b[0m \u001b[1;33m\u001b[0m\u001b[0m\n\u001b[0;32m    461\u001b[0m     \u001b[1;31m# Create the parser.\u001b[0m\u001b[1;33m\u001b[0m\u001b[1;33m\u001b[0m\u001b[1;33m\u001b[0m\u001b[0m\n\u001b[1;32m--> 462\u001b[1;33m     \u001b[0mparser\u001b[0m \u001b[1;33m=\u001b[0m \u001b[0mTextFileReader\u001b[0m\u001b[1;33m(\u001b[0m\u001b[0mfilepath_or_buffer\u001b[0m\u001b[1;33m,\u001b[0m \u001b[1;33m**\u001b[0m\u001b[0mkwds\u001b[0m\u001b[1;33m)\u001b[0m\u001b[1;33m\u001b[0m\u001b[1;33m\u001b[0m\u001b[0m\n\u001b[0m\u001b[0;32m    463\u001b[0m \u001b[1;33m\u001b[0m\u001b[0m\n\u001b[0;32m    464\u001b[0m     \u001b[1;32mif\u001b[0m \u001b[0mchunksize\u001b[0m \u001b[1;32mor\u001b[0m \u001b[0miterator\u001b[0m\u001b[1;33m:\u001b[0m\u001b[1;33m\u001b[0m\u001b[1;33m\u001b[0m\u001b[0m\n",
      "\u001b[1;32mC:\\Program Files\\Python39\\lib\\site-packages\\pandas\\io\\parsers.py\u001b[0m in \u001b[0;36m__init__\u001b[1;34m(self, f, engine, **kwds)\u001b[0m\n\u001b[0;32m    817\u001b[0m             \u001b[0mself\u001b[0m\u001b[1;33m.\u001b[0m\u001b[0moptions\u001b[0m\u001b[1;33m[\u001b[0m\u001b[1;34m\"has_index_names\"\u001b[0m\u001b[1;33m]\u001b[0m \u001b[1;33m=\u001b[0m \u001b[0mkwds\u001b[0m\u001b[1;33m[\u001b[0m\u001b[1;34m\"has_index_names\"\u001b[0m\u001b[1;33m]\u001b[0m\u001b[1;33m\u001b[0m\u001b[1;33m\u001b[0m\u001b[0m\n\u001b[0;32m    818\u001b[0m \u001b[1;33m\u001b[0m\u001b[0m\n\u001b[1;32m--> 819\u001b[1;33m         \u001b[0mself\u001b[0m\u001b[1;33m.\u001b[0m\u001b[0m_engine\u001b[0m \u001b[1;33m=\u001b[0m \u001b[0mself\u001b[0m\u001b[1;33m.\u001b[0m\u001b[0m_make_engine\u001b[0m\u001b[1;33m(\u001b[0m\u001b[0mself\u001b[0m\u001b[1;33m.\u001b[0m\u001b[0mengine\u001b[0m\u001b[1;33m)\u001b[0m\u001b[1;33m\u001b[0m\u001b[1;33m\u001b[0m\u001b[0m\n\u001b[0m\u001b[0;32m    820\u001b[0m \u001b[1;33m\u001b[0m\u001b[0m\n\u001b[0;32m    821\u001b[0m     \u001b[1;32mdef\u001b[0m \u001b[0mclose\u001b[0m\u001b[1;33m(\u001b[0m\u001b[0mself\u001b[0m\u001b[1;33m)\u001b[0m\u001b[1;33m:\u001b[0m\u001b[1;33m\u001b[0m\u001b[1;33m\u001b[0m\u001b[0m\n",
      "\u001b[1;32mC:\\Program Files\\Python39\\lib\\site-packages\\pandas\\io\\parsers.py\u001b[0m in \u001b[0;36m_make_engine\u001b[1;34m(self, engine)\u001b[0m\n\u001b[0;32m   1048\u001b[0m             )\n\u001b[0;32m   1049\u001b[0m         \u001b[1;31m# error: Too many arguments for \"ParserBase\"\u001b[0m\u001b[1;33m\u001b[0m\u001b[1;33m\u001b[0m\u001b[1;33m\u001b[0m\u001b[0m\n\u001b[1;32m-> 1050\u001b[1;33m         \u001b[1;32mreturn\u001b[0m \u001b[0mmapping\u001b[0m\u001b[1;33m[\u001b[0m\u001b[0mengine\u001b[0m\u001b[1;33m]\u001b[0m\u001b[1;33m(\u001b[0m\u001b[0mself\u001b[0m\u001b[1;33m.\u001b[0m\u001b[0mf\u001b[0m\u001b[1;33m,\u001b[0m \u001b[1;33m**\u001b[0m\u001b[0mself\u001b[0m\u001b[1;33m.\u001b[0m\u001b[0moptions\u001b[0m\u001b[1;33m)\u001b[0m  \u001b[1;31m# type: ignore[call-arg]\u001b[0m\u001b[1;33m\u001b[0m\u001b[1;33m\u001b[0m\u001b[0m\n\u001b[0m\u001b[0;32m   1051\u001b[0m \u001b[1;33m\u001b[0m\u001b[0m\n\u001b[0;32m   1052\u001b[0m     \u001b[1;32mdef\u001b[0m \u001b[0m_failover_to_python\u001b[0m\u001b[1;33m(\u001b[0m\u001b[0mself\u001b[0m\u001b[1;33m)\u001b[0m\u001b[1;33m:\u001b[0m\u001b[1;33m\u001b[0m\u001b[1;33m\u001b[0m\u001b[0m\n",
      "\u001b[1;32mC:\\Program Files\\Python39\\lib\\site-packages\\pandas\\io\\parsers.py\u001b[0m in \u001b[0;36m__init__\u001b[1;34m(self, src, **kwds)\u001b[0m\n\u001b[0;32m   1865\u001b[0m \u001b[1;33m\u001b[0m\u001b[0m\n\u001b[0;32m   1866\u001b[0m         \u001b[1;31m# open handles\u001b[0m\u001b[1;33m\u001b[0m\u001b[1;33m\u001b[0m\u001b[1;33m\u001b[0m\u001b[0m\n\u001b[1;32m-> 1867\u001b[1;33m         \u001b[0mself\u001b[0m\u001b[1;33m.\u001b[0m\u001b[0m_open_handles\u001b[0m\u001b[1;33m(\u001b[0m\u001b[0msrc\u001b[0m\u001b[1;33m,\u001b[0m \u001b[0mkwds\u001b[0m\u001b[1;33m)\u001b[0m\u001b[1;33m\u001b[0m\u001b[1;33m\u001b[0m\u001b[0m\n\u001b[0m\u001b[0;32m   1868\u001b[0m         \u001b[1;32massert\u001b[0m \u001b[0mself\u001b[0m\u001b[1;33m.\u001b[0m\u001b[0mhandles\u001b[0m \u001b[1;32mis\u001b[0m \u001b[1;32mnot\u001b[0m \u001b[1;32mNone\u001b[0m\u001b[1;33m\u001b[0m\u001b[1;33m\u001b[0m\u001b[0m\n\u001b[0;32m   1869\u001b[0m         \u001b[1;32mfor\u001b[0m \u001b[0mkey\u001b[0m \u001b[1;32min\u001b[0m \u001b[1;33m(\u001b[0m\u001b[1;34m\"storage_options\"\u001b[0m\u001b[1;33m,\u001b[0m \u001b[1;34m\"encoding\"\u001b[0m\u001b[1;33m,\u001b[0m \u001b[1;34m\"memory_map\"\u001b[0m\u001b[1;33m,\u001b[0m \u001b[1;34m\"compression\"\u001b[0m\u001b[1;33m)\u001b[0m\u001b[1;33m:\u001b[0m\u001b[1;33m\u001b[0m\u001b[1;33m\u001b[0m\u001b[0m\n",
      "\u001b[1;32mC:\\Program Files\\Python39\\lib\\site-packages\\pandas\\io\\parsers.py\u001b[0m in \u001b[0;36m_open_handles\u001b[1;34m(self, src, kwds)\u001b[0m\n\u001b[0;32m   1360\u001b[0m         \u001b[0mLet\u001b[0m \u001b[0mthe\u001b[0m \u001b[0mreaders\u001b[0m \u001b[0mopen\u001b[0m \u001b[0mIOHanldes\u001b[0m \u001b[0mafter\u001b[0m \u001b[0mthey\u001b[0m \u001b[0mare\u001b[0m \u001b[0mdone\u001b[0m \u001b[1;32mwith\u001b[0m \u001b[0mtheir\u001b[0m \u001b[0mpotential\u001b[0m \u001b[0mraises\u001b[0m\u001b[1;33m.\u001b[0m\u001b[1;33m\u001b[0m\u001b[1;33m\u001b[0m\u001b[0m\n\u001b[0;32m   1361\u001b[0m         \"\"\"\n\u001b[1;32m-> 1362\u001b[1;33m         self.handles = get_handle(\n\u001b[0m\u001b[0;32m   1363\u001b[0m             \u001b[0msrc\u001b[0m\u001b[1;33m,\u001b[0m\u001b[1;33m\u001b[0m\u001b[1;33m\u001b[0m\u001b[0m\n\u001b[0;32m   1364\u001b[0m             \u001b[1;34m\"r\"\u001b[0m\u001b[1;33m,\u001b[0m\u001b[1;33m\u001b[0m\u001b[1;33m\u001b[0m\u001b[0m\n",
      "\u001b[1;32mC:\\Program Files\\Python39\\lib\\site-packages\\pandas\\io\\common.py\u001b[0m in \u001b[0;36mget_handle\u001b[1;34m(path_or_buf, mode, encoding, compression, memory_map, is_text, errors, storage_options)\u001b[0m\n\u001b[0;32m    640\u001b[0m                 \u001b[0merrors\u001b[0m \u001b[1;33m=\u001b[0m \u001b[1;34m\"replace\"\u001b[0m\u001b[1;33m\u001b[0m\u001b[1;33m\u001b[0m\u001b[0m\n\u001b[0;32m    641\u001b[0m             \u001b[1;31m# Encoding\u001b[0m\u001b[1;33m\u001b[0m\u001b[1;33m\u001b[0m\u001b[1;33m\u001b[0m\u001b[0m\n\u001b[1;32m--> 642\u001b[1;33m             handle = open(\n\u001b[0m\u001b[0;32m    643\u001b[0m                 \u001b[0mhandle\u001b[0m\u001b[1;33m,\u001b[0m\u001b[1;33m\u001b[0m\u001b[1;33m\u001b[0m\u001b[0m\n\u001b[0;32m    644\u001b[0m                 \u001b[0mioargs\u001b[0m\u001b[1;33m.\u001b[0m\u001b[0mmode\u001b[0m\u001b[1;33m,\u001b[0m\u001b[1;33m\u001b[0m\u001b[1;33m\u001b[0m\u001b[0m\n",
      "\u001b[1;31mFileNotFoundError\u001b[0m: [Errno 2] No such file or directory: 'C:\\\\studies\\\\first sem docs\\\\BIGDATA\\\\bankruptcy_prediction\\\\FinancialDataSet.csv'"
     ]
    }
   ],
   "source": [
    "import numpy as np\n",
    "import pandas as pd\n",
    "\n",
    "import sklearn.linear_model as sk\n",
    "import plotly.express as px\n",
    "from sklearn.linear_model import LogisticRegression\n",
    "from sklearn.tree import DecisionTreeClassifier\n",
    "from sklearn.model_selection import train_test_split\n",
    "from sklearn.preprocessing import StandardScaler\n",
    "from sklearn.ensemble import RandomForestClassifier, GradientBoostingClassifier\n",
    "\n",
    "\n",
    "from sklearn.decomposition import PCA\n",
    "\n",
    "\n",
    "pd.set_option('max_columns', None)\n",
    "\n",
    "\n",
    "#reading data and removing Nan values\n",
    "data = pd.read_csv('FinancialDataSet.csv', usecols=np.r_[0:66])\n",
    "#converting object to float\n",
    "for col in data.columns: \n",
    "    data[col] = pd.to_numeric(data[col], errors='coerce')\n",
    " \n",
    "\n",
    "\n",
    "data = data.fillna(\"0\")\n",
    "\n",
    "\n",
    "data\n"
   ]
  },
  {
   "cell_type": "code",
   "execution_count": 23,
   "metadata": {},
   "outputs": [],
   "source": [
    "def preprocess_inputs(df):\n",
    "    df = df.copy()\n",
    "    y = df['class']\n",
    "    X = df.drop(['class'], axis = 1)\n",
    "#splitting the data\n",
    "    X_train, X_test, y_train, y_test = train_test_split(X, y, train_size=0.7, shuffle=True, random_state=1)\n",
    "#scaling the data\n",
    "    scaler = StandardScaler()\n",
    "    scaler.fit(X_train)\n",
    "    X_train = pd.DataFrame(scaler.transform(X_train), index=X_train.index, columns=X_train.columns) #creating dataframe & combining x_traindata\n",
    "    X_test = pd.DataFrame(scaler.transform(X_test), index=X_test.index, columns=X_test.columns) #creating dataframe & combining x_test data\n",
    "    return X_train, X_test, y_train, y_test\n",
    "   \n"
   ]
  },
  {
   "cell_type": "code",
   "execution_count": 24,
   "metadata": {},
   "outputs": [],
   "source": [
    "X_train, X_test, y_train, y_test = preprocess_inputs(data)"
   ]
  },
  {
   "cell_type": "code",
   "execution_count": 52,
   "metadata": {},
   "outputs": [
    {
     "output_type": "stream",
     "name": "stderr",
     "text": [
      "C:\\Users\\bhagy\\AppData\\Roaming\\Python\\Python39\\site-packages\\sklearn\\linear_model\\_logistic.py:763: ConvergenceWarning:\n",
      "\n",
      "lbfgs failed to converge (status=1):\n",
      "STOP: TOTAL NO. of ITERATIONS REACHED LIMIT.\n",
      "\n",
      "Increase the number of iterations (max_iter) or scale the data as shown in:\n",
      "    https://scikit-learn.org/stable/modules/preprocessing.html\n",
      "Please also refer to the documentation for alternative solver options:\n",
      "    https://scikit-learn.org/stable/modules/linear_model.html#logistic-regression\n",
      "\n",
      "Logistic Regression trained.\n",
      "RandomForestClassifier trained.\n",
      "Gradient Boosting trained.\n"
     ]
    }
   ],
   "source": [
    "original_models = {\n",
    "    \"Logistic Regression\": LogisticRegression(),\n",
    "    \"RandomForestClassifier\" :  RandomForestClassifier(),\n",
    "    \"Gradient Boosting\": GradientBoostingClassifier()\n",
    "    \n",
    "}\n",
    "\n",
    "for name, model in original_models.items():\n",
    "    model.fit(X_train, y_train)\n",
    "    print(name + \" trained.\")"
   ]
  },
  {
   "cell_type": "code",
   "execution_count": 54,
   "metadata": {},
   "outputs": [
    {
     "output_type": "stream",
     "name": "stdout",
     "text": [
      "Logistic Regression: 95.14%\n",
      "RandomForestClassifier: 97.05%\n",
      "Gradient Boosting: 99.94%\n"
     ]
    }
   ],
   "source": [
    "original_results = []\n",
    "\n",
    "for name, model in original_models.items():\n",
    "    result = model.score(X_test, y_test)\n",
    "    original_results.append(result)\n",
    "    print(name + \": {:.2f}%\".format(result * 100))"
   ]
  },
  {
   "cell_type": "code",
   "execution_count": 55,
   "metadata": {},
   "outputs": [
    {
     "output_type": "execute_result",
     "data": {
      "text/plain": [
       "0     0.952385\n",
       "1     0.047462\n",
       "11    0.000154\n",
       "Name: class, dtype: float64"
      ]
     },
     "metadata": {},
     "execution_count": 55
    }
   ],
   "source": [
    "y_test.value_counts() / len(y_test)"
   ]
  },
  {
   "cell_type": "code",
   "execution_count": 75,
   "metadata": {},
   "outputs": [],
   "source": [
    "n_components = 35\n",
    "\n",
    "pca = PCA(n_components=n_components)\n",
    "pca.fit(X_train)\n",
    "\n",
    "X_train_reduced = pd.DataFrame(pca.transform(X_train), index=X_train.index, columns=[\"PC\" + str(i) for i in range(1, n_components + 1)])\n",
    "X_test_reduced = pd.DataFrame(pca.transform(X_test), index=X_test.index, columns=[\"PC\" + str(i) for i in range(1, n_components + 1)])"
   ]
  },
  {
   "cell_type": "code",
   "execution_count": 76,
   "metadata": {},
   "outputs": [
    {
     "output_type": "execute_result",
     "data": {
      "text/plain": [
       "            PC1       PC2       PC3       PC4       PC5       PC6       PC7  \\\n",
       "39337 -0.018207 -0.091816 -0.043341  0.022086 -0.044058 -0.000357  0.042621   \n",
       "32733 -0.006043 -0.006677 -0.004025 -0.101030  0.003125  0.026960  0.046211   \n",
       "35630 -0.023577 -0.254631  0.003733  0.224228  0.025463  0.013601  0.052387   \n",
       "32427 -0.015426 -0.004466 -0.058430 -0.083580 -0.091469  0.009724  0.035080   \n",
       "21921 -0.022380 -0.150626 -0.071662 -0.082820 -0.098052  0.005512 -0.003085   \n",
       "...         ...       ...       ...       ...       ...       ...       ...   \n",
       "7813  -0.018176 -0.119934 -0.073907 -0.022652 -0.058623 -0.024219 -0.032955   \n",
       "32511 -0.014696 -0.015155 -0.060266 -0.108249 -0.187219 -0.002114 -0.066185   \n",
       "5192  -0.013065  0.072967 -0.050757  0.074531 -0.049593 -0.004070 -0.017805   \n",
       "12172 -0.013805 -0.040027 -0.059342  0.034084 -0.095904 -0.037198 -0.081596   \n",
       "33003 -0.012658 -0.016777 -0.036441  0.084002 -0.012736 -0.032753  0.018722   \n",
       "\n",
       "            PC8       PC9      PC10      PC11      PC12      PC13      PC14  \\\n",
       "39337 -0.031325  0.015961  0.008983  0.005934 -0.368680  0.096706  0.119721   \n",
       "32733 -0.037370  0.091142  0.029256 -0.009276 -0.844516  0.046562  0.063104   \n",
       "35630 -0.020120 -0.005670 -0.021638  0.000522  0.170128  0.052526  0.025809   \n",
       "32427 -0.029485  0.043164  0.007909 -0.004000 -0.350565  0.049441  0.064746   \n",
       "21921 -0.003262  0.003377 -0.021986 -0.012498  0.509784  0.003131  0.098337   \n",
       "...         ...       ...       ...       ...       ...       ...       ...   \n",
       "7813   0.004253 -0.038382 -0.029574 -0.022004  0.223008 -0.081750 -0.152589   \n",
       "32511 -0.034095  0.025006 -0.032777 -0.001374  0.655120  0.041967  0.082947   \n",
       "5192  -0.007037  0.008099 -0.043889 -0.033323  0.359815 -0.142682 -0.141411   \n",
       "12172 -0.010236 -0.038844 -0.046189 -0.017524  0.521747 -0.092814 -0.086666   \n",
       "33003 -0.031836 -0.038013  0.007670  0.004465 -0.460566  0.062214  0.062686   \n",
       "\n",
       "           PC15      PC16      PC17      PC18      PC19      PC20      PC21  \\\n",
       "39337  0.782559 -0.592727  0.029059 -0.176308  0.846919  0.241247 -0.026397   \n",
       "32733  0.444674 -0.416484 -0.009398 -0.081558  0.539132  0.345869  0.006707   \n",
       "35630  0.567441 -0.480920  0.032738 -0.154169  0.683449  0.051981  0.029812   \n",
       "32427  0.479180 -0.367811  0.015818 -0.116359  0.506987  0.166061 -0.005591   \n",
       "21921 -0.044446 -0.053117  0.004519 -0.029356  0.038576 -0.185862 -0.109099   \n",
       "...         ...       ...       ...       ...       ...       ...       ...   \n",
       "7813  -0.686362  0.409931 -0.019491  0.097038 -0.684267 -0.223331  0.053888   \n",
       "32511  0.455010 -0.408804  0.026984 -0.126631  0.584225 -0.139419 -0.023357   \n",
       "5192  -0.861890  0.492450 -0.029518  0.124792 -0.809595 -0.254295  0.039917   \n",
       "12172 -0.505362  0.270265 -0.008446  0.048843 -0.452804 -0.277668  0.007442   \n",
       "33003  0.503919 -0.382855  0.014484 -0.118515  0.526677  0.215836 -0.017240   \n",
       "\n",
       "           PC22      PC23      PC24      PC25      PC26      PC27      PC28  \\\n",
       "39337  0.184041 -0.309659 -0.063043  0.021112 -0.050029 -0.037522  0.004109   \n",
       "32733  0.139160 -0.211719  0.631417  0.015894 -0.136361 -0.005624 -0.000303   \n",
       "35630  0.131271 -0.264927 -0.526987  0.200743  0.257548 -0.021835  0.007567   \n",
       "32427  0.119081 -0.185134  0.034936 -0.037305 -0.104775 -0.028781 -0.001358   \n",
       "21921 -0.017077  0.034681 -0.363205  0.140289  0.208859 -0.005559 -0.000342   \n",
       "...         ...       ...       ...       ...       ...       ...       ...   \n",
       "7813  -0.169792  0.235405 -0.162377  0.032445  0.075852  0.011840 -0.011481   \n",
       "32511  0.110257 -0.153473 -0.480559  0.175355  0.284344 -0.015565  0.008100   \n",
       "5192  -0.160544  0.259495 -0.282258  0.159232  0.231631  0.018067 -0.011459   \n",
       "12172 -0.098138  0.157944 -0.412348  0.132631  0.237533  0.007614 -0.004890   \n",
       "33003  0.116001 -0.219630  0.092988 -0.047162 -0.137978 -0.033343 -0.000609   \n",
       "\n",
       "           PC29      PC30      PC31      PC32      PC33      PC34      PC35  \n",
       "39337 -0.008812 -0.004033 -0.003679 -0.004416  0.001717 -0.009222 -0.004598  \n",
       "32733  0.006517  0.017899  0.034604 -0.003083 -0.003383 -0.020467 -0.013847  \n",
       "35630  0.070764 -0.035419  0.127159  0.005126  0.024709  0.010061  0.017138  \n",
       "32427  0.016829 -0.004267 -0.049061 -0.005440 -0.022623 -0.007731  0.018305  \n",
       "21921  0.017545 -0.018679  0.071571 -0.004649  0.018105  0.010242  0.000331  \n",
       "...         ...       ...       ...       ...       ...       ...       ...  \n",
       "7813  -0.029223 -0.007757  0.039409  0.005289  0.009776  0.003295  0.001338  \n",
       "32511 -0.012301 -0.021572 -0.034457  0.001768  0.010200  0.010559  0.003751  \n",
       "5192   0.008873 -0.012937 -0.042811  0.006621  0.005334  0.008089 -0.030521  \n",
       "12172 -0.026129 -0.012780 -0.025739  0.007299 -0.014866  0.015166 -0.004720  \n",
       "33003 -0.012368 -0.002993 -0.022821 -0.004245 -0.060542 -0.003316  0.013810  \n",
       "\n",
       "[30380 rows x 35 columns]"
      ],
      "text/html": "<div>\n<style scoped>\n    .dataframe tbody tr th:only-of-type {\n        vertical-align: middle;\n    }\n\n    .dataframe tbody tr th {\n        vertical-align: top;\n    }\n\n    .dataframe thead th {\n        text-align: right;\n    }\n</style>\n<table border=\"1\" class=\"dataframe\">\n  <thead>\n    <tr style=\"text-align: right;\">\n      <th></th>\n      <th>PC1</th>\n      <th>PC2</th>\n      <th>PC3</th>\n      <th>PC4</th>\n      <th>PC5</th>\n      <th>PC6</th>\n      <th>PC7</th>\n      <th>PC8</th>\n      <th>PC9</th>\n      <th>PC10</th>\n      <th>PC11</th>\n      <th>PC12</th>\n      <th>PC13</th>\n      <th>PC14</th>\n      <th>PC15</th>\n      <th>PC16</th>\n      <th>PC17</th>\n      <th>PC18</th>\n      <th>PC19</th>\n      <th>PC20</th>\n      <th>PC21</th>\n      <th>PC22</th>\n      <th>PC23</th>\n      <th>PC24</th>\n      <th>PC25</th>\n      <th>PC26</th>\n      <th>PC27</th>\n      <th>PC28</th>\n      <th>PC29</th>\n      <th>PC30</th>\n      <th>PC31</th>\n      <th>PC32</th>\n      <th>PC33</th>\n      <th>PC34</th>\n      <th>PC35</th>\n    </tr>\n  </thead>\n  <tbody>\n    <tr>\n      <th>39337</th>\n      <td>-0.018207</td>\n      <td>-0.091816</td>\n      <td>-0.043341</td>\n      <td>0.022086</td>\n      <td>-0.044058</td>\n      <td>-0.000357</td>\n      <td>0.042621</td>\n      <td>-0.031325</td>\n      <td>0.015961</td>\n      <td>0.008983</td>\n      <td>0.005934</td>\n      <td>-0.368680</td>\n      <td>0.096706</td>\n      <td>0.119721</td>\n      <td>0.782559</td>\n      <td>-0.592727</td>\n      <td>0.029059</td>\n      <td>-0.176308</td>\n      <td>0.846919</td>\n      <td>0.241247</td>\n      <td>-0.026397</td>\n      <td>0.184041</td>\n      <td>-0.309659</td>\n      <td>-0.063043</td>\n      <td>0.021112</td>\n      <td>-0.050029</td>\n      <td>-0.037522</td>\n      <td>0.004109</td>\n      <td>-0.008812</td>\n      <td>-0.004033</td>\n      <td>-0.003679</td>\n      <td>-0.004416</td>\n      <td>0.001717</td>\n      <td>-0.009222</td>\n      <td>-0.004598</td>\n    </tr>\n    <tr>\n      <th>32733</th>\n      <td>-0.006043</td>\n      <td>-0.006677</td>\n      <td>-0.004025</td>\n      <td>-0.101030</td>\n      <td>0.003125</td>\n      <td>0.026960</td>\n      <td>0.046211</td>\n      <td>-0.037370</td>\n      <td>0.091142</td>\n      <td>0.029256</td>\n      <td>-0.009276</td>\n      <td>-0.844516</td>\n      <td>0.046562</td>\n      <td>0.063104</td>\n      <td>0.444674</td>\n      <td>-0.416484</td>\n      <td>-0.009398</td>\n      <td>-0.081558</td>\n      <td>0.539132</td>\n      <td>0.345869</td>\n      <td>0.006707</td>\n      <td>0.139160</td>\n      <td>-0.211719</td>\n      <td>0.631417</td>\n      <td>0.015894</td>\n      <td>-0.136361</td>\n      <td>-0.005624</td>\n      <td>-0.000303</td>\n      <td>0.006517</td>\n      <td>0.017899</td>\n      <td>0.034604</td>\n      <td>-0.003083</td>\n      <td>-0.003383</td>\n      <td>-0.020467</td>\n      <td>-0.013847</td>\n    </tr>\n    <tr>\n      <th>35630</th>\n      <td>-0.023577</td>\n      <td>-0.254631</td>\n      <td>0.003733</td>\n      <td>0.224228</td>\n      <td>0.025463</td>\n      <td>0.013601</td>\n      <td>0.052387</td>\n      <td>-0.020120</td>\n      <td>-0.005670</td>\n      <td>-0.021638</td>\n      <td>0.000522</td>\n      <td>0.170128</td>\n      <td>0.052526</td>\n      <td>0.025809</td>\n      <td>0.567441</td>\n      <td>-0.480920</td>\n      <td>0.032738</td>\n      <td>-0.154169</td>\n      <td>0.683449</td>\n      <td>0.051981</td>\n      <td>0.029812</td>\n      <td>0.131271</td>\n      <td>-0.264927</td>\n      <td>-0.526987</td>\n      <td>0.200743</td>\n      <td>0.257548</td>\n      <td>-0.021835</td>\n      <td>0.007567</td>\n      <td>0.070764</td>\n      <td>-0.035419</td>\n      <td>0.127159</td>\n      <td>0.005126</td>\n      <td>0.024709</td>\n      <td>0.010061</td>\n      <td>0.017138</td>\n    </tr>\n    <tr>\n      <th>32427</th>\n      <td>-0.015426</td>\n      <td>-0.004466</td>\n      <td>-0.058430</td>\n      <td>-0.083580</td>\n      <td>-0.091469</td>\n      <td>0.009724</td>\n      <td>0.035080</td>\n      <td>-0.029485</td>\n      <td>0.043164</td>\n      <td>0.007909</td>\n      <td>-0.004000</td>\n      <td>-0.350565</td>\n      <td>0.049441</td>\n      <td>0.064746</td>\n      <td>0.479180</td>\n      <td>-0.367811</td>\n      <td>0.015818</td>\n      <td>-0.116359</td>\n      <td>0.506987</td>\n      <td>0.166061</td>\n      <td>-0.005591</td>\n      <td>0.119081</td>\n      <td>-0.185134</td>\n      <td>0.034936</td>\n      <td>-0.037305</td>\n      <td>-0.104775</td>\n      <td>-0.028781</td>\n      <td>-0.001358</td>\n      <td>0.016829</td>\n      <td>-0.004267</td>\n      <td>-0.049061</td>\n      <td>-0.005440</td>\n      <td>-0.022623</td>\n      <td>-0.007731</td>\n      <td>0.018305</td>\n    </tr>\n    <tr>\n      <th>21921</th>\n      <td>-0.022380</td>\n      <td>-0.150626</td>\n      <td>-0.071662</td>\n      <td>-0.082820</td>\n      <td>-0.098052</td>\n      <td>0.005512</td>\n      <td>-0.003085</td>\n      <td>-0.003262</td>\n      <td>0.003377</td>\n      <td>-0.021986</td>\n      <td>-0.012498</td>\n      <td>0.509784</td>\n      <td>0.003131</td>\n      <td>0.098337</td>\n      <td>-0.044446</td>\n      <td>-0.053117</td>\n      <td>0.004519</td>\n      <td>-0.029356</td>\n      <td>0.038576</td>\n      <td>-0.185862</td>\n      <td>-0.109099</td>\n      <td>-0.017077</td>\n      <td>0.034681</td>\n      <td>-0.363205</td>\n      <td>0.140289</td>\n      <td>0.208859</td>\n      <td>-0.005559</td>\n      <td>-0.000342</td>\n      <td>0.017545</td>\n      <td>-0.018679</td>\n      <td>0.071571</td>\n      <td>-0.004649</td>\n      <td>0.018105</td>\n      <td>0.010242</td>\n      <td>0.000331</td>\n    </tr>\n    <tr>\n      <th>...</th>\n      <td>...</td>\n      <td>...</td>\n      <td>...</td>\n      <td>...</td>\n      <td>...</td>\n      <td>...</td>\n      <td>...</td>\n      <td>...</td>\n      <td>...</td>\n      <td>...</td>\n      <td>...</td>\n      <td>...</td>\n      <td>...</td>\n      <td>...</td>\n      <td>...</td>\n      <td>...</td>\n      <td>...</td>\n      <td>...</td>\n      <td>...</td>\n      <td>...</td>\n      <td>...</td>\n      <td>...</td>\n      <td>...</td>\n      <td>...</td>\n      <td>...</td>\n      <td>...</td>\n      <td>...</td>\n      <td>...</td>\n      <td>...</td>\n      <td>...</td>\n      <td>...</td>\n      <td>...</td>\n      <td>...</td>\n      <td>...</td>\n      <td>...</td>\n    </tr>\n    <tr>\n      <th>7813</th>\n      <td>-0.018176</td>\n      <td>-0.119934</td>\n      <td>-0.073907</td>\n      <td>-0.022652</td>\n      <td>-0.058623</td>\n      <td>-0.024219</td>\n      <td>-0.032955</td>\n      <td>0.004253</td>\n      <td>-0.038382</td>\n      <td>-0.029574</td>\n      <td>-0.022004</td>\n      <td>0.223008</td>\n      <td>-0.081750</td>\n      <td>-0.152589</td>\n      <td>-0.686362</td>\n      <td>0.409931</td>\n      <td>-0.019491</td>\n      <td>0.097038</td>\n      <td>-0.684267</td>\n      <td>-0.223331</td>\n      <td>0.053888</td>\n      <td>-0.169792</td>\n      <td>0.235405</td>\n      <td>-0.162377</td>\n      <td>0.032445</td>\n      <td>0.075852</td>\n      <td>0.011840</td>\n      <td>-0.011481</td>\n      <td>-0.029223</td>\n      <td>-0.007757</td>\n      <td>0.039409</td>\n      <td>0.005289</td>\n      <td>0.009776</td>\n      <td>0.003295</td>\n      <td>0.001338</td>\n    </tr>\n    <tr>\n      <th>32511</th>\n      <td>-0.014696</td>\n      <td>-0.015155</td>\n      <td>-0.060266</td>\n      <td>-0.108249</td>\n      <td>-0.187219</td>\n      <td>-0.002114</td>\n      <td>-0.066185</td>\n      <td>-0.034095</td>\n      <td>0.025006</td>\n      <td>-0.032777</td>\n      <td>-0.001374</td>\n      <td>0.655120</td>\n      <td>0.041967</td>\n      <td>0.082947</td>\n      <td>0.455010</td>\n      <td>-0.408804</td>\n      <td>0.026984</td>\n      <td>-0.126631</td>\n      <td>0.584225</td>\n      <td>-0.139419</td>\n      <td>-0.023357</td>\n      <td>0.110257</td>\n      <td>-0.153473</td>\n      <td>-0.480559</td>\n      <td>0.175355</td>\n      <td>0.284344</td>\n      <td>-0.015565</td>\n      <td>0.008100</td>\n      <td>-0.012301</td>\n      <td>-0.021572</td>\n      <td>-0.034457</td>\n      <td>0.001768</td>\n      <td>0.010200</td>\n      <td>0.010559</td>\n      <td>0.003751</td>\n    </tr>\n    <tr>\n      <th>5192</th>\n      <td>-0.013065</td>\n      <td>0.072967</td>\n      <td>-0.050757</td>\n      <td>0.074531</td>\n      <td>-0.049593</td>\n      <td>-0.004070</td>\n      <td>-0.017805</td>\n      <td>-0.007037</td>\n      <td>0.008099</td>\n      <td>-0.043889</td>\n      <td>-0.033323</td>\n      <td>0.359815</td>\n      <td>-0.142682</td>\n      <td>-0.141411</td>\n      <td>-0.861890</td>\n      <td>0.492450</td>\n      <td>-0.029518</td>\n      <td>0.124792</td>\n      <td>-0.809595</td>\n      <td>-0.254295</td>\n      <td>0.039917</td>\n      <td>-0.160544</td>\n      <td>0.259495</td>\n      <td>-0.282258</td>\n      <td>0.159232</td>\n      <td>0.231631</td>\n      <td>0.018067</td>\n      <td>-0.011459</td>\n      <td>0.008873</td>\n      <td>-0.012937</td>\n      <td>-0.042811</td>\n      <td>0.006621</td>\n      <td>0.005334</td>\n      <td>0.008089</td>\n      <td>-0.030521</td>\n    </tr>\n    <tr>\n      <th>12172</th>\n      <td>-0.013805</td>\n      <td>-0.040027</td>\n      <td>-0.059342</td>\n      <td>0.034084</td>\n      <td>-0.095904</td>\n      <td>-0.037198</td>\n      <td>-0.081596</td>\n      <td>-0.010236</td>\n      <td>-0.038844</td>\n      <td>-0.046189</td>\n      <td>-0.017524</td>\n      <td>0.521747</td>\n      <td>-0.092814</td>\n      <td>-0.086666</td>\n      <td>-0.505362</td>\n      <td>0.270265</td>\n      <td>-0.008446</td>\n      <td>0.048843</td>\n      <td>-0.452804</td>\n      <td>-0.277668</td>\n      <td>0.007442</td>\n      <td>-0.098138</td>\n      <td>0.157944</td>\n      <td>-0.412348</td>\n      <td>0.132631</td>\n      <td>0.237533</td>\n      <td>0.007614</td>\n      <td>-0.004890</td>\n      <td>-0.026129</td>\n      <td>-0.012780</td>\n      <td>-0.025739</td>\n      <td>0.007299</td>\n      <td>-0.014866</td>\n      <td>0.015166</td>\n      <td>-0.004720</td>\n    </tr>\n    <tr>\n      <th>33003</th>\n      <td>-0.012658</td>\n      <td>-0.016777</td>\n      <td>-0.036441</td>\n      <td>0.084002</td>\n      <td>-0.012736</td>\n      <td>-0.032753</td>\n      <td>0.018722</td>\n      <td>-0.031836</td>\n      <td>-0.038013</td>\n      <td>0.007670</td>\n      <td>0.004465</td>\n      <td>-0.460566</td>\n      <td>0.062214</td>\n      <td>0.062686</td>\n      <td>0.503919</td>\n      <td>-0.382855</td>\n      <td>0.014484</td>\n      <td>-0.118515</td>\n      <td>0.526677</td>\n      <td>0.215836</td>\n      <td>-0.017240</td>\n      <td>0.116001</td>\n      <td>-0.219630</td>\n      <td>0.092988</td>\n      <td>-0.047162</td>\n      <td>-0.137978</td>\n      <td>-0.033343</td>\n      <td>-0.000609</td>\n      <td>-0.012368</td>\n      <td>-0.002993</td>\n      <td>-0.022821</td>\n      <td>-0.004245</td>\n      <td>-0.060542</td>\n      <td>-0.003316</td>\n      <td>0.013810</td>\n    </tr>\n  </tbody>\n</table>\n<p>30380 rows × 35 columns</p>\n</div>"
     },
     "metadata": {},
     "execution_count": 76
    }
   ],
   "source": [
    "X_train_reduced"
   ]
  },
  {
   "cell_type": "code",
   "execution_count": 77,
   "metadata": {},
   "outputs": [
    {
     "output_type": "execute_result",
     "data": {
      "text/plain": [
       "                PC1           PC2           PC3           PC4           PC5  \\\n",
       "count  3.038000e+04  3.038000e+04  3.038000e+04  3.038000e+04  3.038000e+04   \n",
       "mean   4.677701e-18 -1.871080e-18  9.355401e-19  9.355401e-18  7.016551e-19   \n",
       "std    3.334941e+00  3.298840e+00  2.216670e+00  2.148089e+00  1.802736e+00   \n",
       "min   -5.425120e+01 -1.769364e+02 -2.526207e+01 -9.184092e+01 -2.370756e+01   \n",
       "25%   -1.670564e-02 -1.036426e-01 -6.263856e-02 -5.654191e-02 -1.108568e-01   \n",
       "50%   -1.305871e-02 -5.914673e-02 -5.207079e-02 -1.102797e-02 -5.826783e-02   \n",
       "75%   -9.320174e-03  1.362774e-03 -3.806431e-02  3.793784e-02 -9.362588e-04   \n",
       "max    5.697776e+02  4.293517e+02  2.696642e+02  1.567306e+02  1.653531e+02   \n",
       "\n",
       "                PC6           PC7           PC8           PC9          PC10  \\\n",
       "count  3.038000e+04  3.038000e+04  3.038000e+04  3.038000e+04  3.038000e+04   \n",
       "mean  -2.338850e-18 -1.871080e-18  2.338850e-19  2.338850e-18 -1.637195e-18   \n",
       "std    1.648744e+00  1.540915e+00  1.493108e+00  1.386848e+00  1.299108e+00   \n",
       "min   -9.753875e+01 -8.435760e+01 -5.908563e+01 -8.188391e+01 -2.228986e+00   \n",
       "25%   -2.609797e-02 -5.575304e-02 -3.125645e-02 -3.416832e-02 -3.197118e-02   \n",
       "50%   -1.275411e-02 -1.112464e-02 -2.099583e-02 -1.052535e-02 -1.206288e-02   \n",
       "75%    4.179651e-03  4.019635e-02 -1.055744e-02  1.894798e-02  8.438778e-03   \n",
       "max    1.563989e+02  1.372117e+02  1.697716e+02  9.444763e+01  2.072238e+02   \n",
       "\n",
       "               PC11          PC12          PC13          PC14          PC15  \\\n",
       "count  3.038000e+04  3.038000e+04  3.038000e+04  3.038000e+04  3.038000e+04   \n",
       "mean  -2.338850e-19 -7.952091e-18  2.338850e-18 -7.016551e-19 -6.548781e-18   \n",
       "std    1.233987e+00  1.098409e+00  1.027376e+00  1.021177e+00  1.009374e+00   \n",
       "min   -2.642795e+01 -1.391913e+01 -3.160745e+01 -6.012955e+01 -3.269279e+01   \n",
       "25%   -2.252192e-02 -4.868247e-01 -8.143005e-02 -1.014860e-01 -5.050545e-01   \n",
       "50%   -1.118930e-02 -5.799707e-02 -1.362257e-02 -1.367051e-02 -4.735020e-03   \n",
       "75%    4.244033e-04  3.631733e-01  5.273083e-02  7.534419e-02  4.933845e-01   \n",
       "max    1.839796e+02  5.670828e+01  1.236411e+02  1.155124e+02  9.607916e+01   \n",
       "\n",
       "               PC16          PC17          PC18          PC19          PC20  \\\n",
       "count  3.038000e+04  3.038000e+04  3.038000e+04  3.038000e+04  3.038000e+04   \n",
       "mean  -9.355401e-19  7.016551e-19 -9.355401e-18  1.777526e-17  9.589286e-18   \n",
       "std    1.001917e+00  1.000064e+00  9.996581e-01  9.963366e-01  9.867328e-01   \n",
       "min   -2.457679e+01 -2.071078e+01 -4.903698e+01 -4.878407e+01 -2.987395e+01   \n",
       "25%   -3.740067e-01 -2.575278e-02 -1.193592e-01 -5.463885e-01 -1.735993e-01   \n",
       "50%   -1.684481e-02 -3.760690e-03 -1.889332e-02 -1.251269e-02 -4.316616e-03   \n",
       "75%    3.352918e-01  1.986603e-02  7.859780e-02  5.283291e-01  1.626946e-01   \n",
       "max    7.863389e+01  1.611561e+02  7.773624e+01  6.778283e+01  6.972168e+01   \n",
       "\n",
       "               PC21          PC22          PC23          PC24          PC25  \\\n",
       "count  30380.000000  3.038000e+04  3.038000e+04  3.038000e+04  3.038000e+04   \n",
       "mean       0.000000  6.548781e-18 -7.016551e-18 -1.379922e-17  3.274390e-18   \n",
       "std        0.979587  9.707967e-01  9.667075e-01  9.059941e-01  8.876284e-01   \n",
       "min      -63.985748 -6.939957e+01 -4.551679e+01 -2.252404e+01 -6.128162e+01   \n",
       "25%       -0.019737 -1.224642e-01 -1.911097e-01 -3.485367e-01 -1.370283e-01   \n",
       "50%       -0.000651 -2.124446e-04 -1.046267e-02 -3.325429e-02  2.576643e-03   \n",
       "75%        0.017417  1.221295e-01  1.710520e-01  3.144925e-01  1.350938e-01   \n",
       "max      106.989457  1.099025e+02  1.339622e+02  5.829705e+01  7.603761e+01   \n",
       "\n",
       "               PC26          PC27          PC28          PC29          PC30  \\\n",
       "count  3.038000e+04  3.038000e+04  3.038000e+04  3.038000e+04  3.038000e+04   \n",
       "mean   3.742161e-18  1.169425e-18  9.355401e-19 -8.185976e-19 -1.637195e-18   \n",
       "std    8.669272e-01  7.836200e-01  6.804673e-01  6.315545e-01  6.202831e-01   \n",
       "min   -5.749838e+01 -4.805139e+01 -1.706337e+01 -4.125010e+01 -1.469148e+01   \n",
       "25%   -2.236025e-01 -2.717968e-02 -1.375735e-02 -1.723946e-02 -1.755595e-02   \n",
       "50%    2.579669e-03 -1.169803e-02 -5.538303e-03  4.818038e-04 -6.450773e-03   \n",
       "75%    2.145251e-01  4.471327e-03  3.469702e-03  2.106782e-02  4.312265e-03   \n",
       "max    7.068179e+01  8.409973e+01  1.059589e+02  4.358034e+01  6.853062e+01   \n",
       "\n",
       "               PC31          PC32          PC33          PC34          PC35  \n",
       "count  3.038000e+04  3.038000e+04  3.038000e+04  3.038000e+04  3.038000e+04  \n",
       "mean  -1.871080e-18  1.520253e-18 -2.455793e-18 -3.508276e-19 -5.847126e-19  \n",
       "std    5.662040e-01  5.595335e-01  4.147146e-01  3.538724e-01  2.815011e-01  \n",
       "min   -3.883726e+01 -3.680663e+01 -3.550694e+01 -5.485385e+00 -1.859767e+01  \n",
       "25%   -1.577510e-02 -3.568936e-03 -2.506179e-02 -1.517617e-02 -8.621185e-03  \n",
       "50%    2.372827e-03  4.795922e-04 -4.778332e-03 -2.355490e-03 -3.078354e-04  \n",
       "75%    2.019711e-02  4.383797e-03  1.570597e-02  9.545325e-03  6.657200e-03  \n",
       "max    3.946139e+01  8.878602e+01  3.808033e+01  4.332773e+01  2.927866e+01  "
      ],
      "text/html": "<div>\n<style scoped>\n    .dataframe tbody tr th:only-of-type {\n        vertical-align: middle;\n    }\n\n    .dataframe tbody tr th {\n        vertical-align: top;\n    }\n\n    .dataframe thead th {\n        text-align: right;\n    }\n</style>\n<table border=\"1\" class=\"dataframe\">\n  <thead>\n    <tr style=\"text-align: right;\">\n      <th></th>\n      <th>PC1</th>\n      <th>PC2</th>\n      <th>PC3</th>\n      <th>PC4</th>\n      <th>PC5</th>\n      <th>PC6</th>\n      <th>PC7</th>\n      <th>PC8</th>\n      <th>PC9</th>\n      <th>PC10</th>\n      <th>PC11</th>\n      <th>PC12</th>\n      <th>PC13</th>\n      <th>PC14</th>\n      <th>PC15</th>\n      <th>PC16</th>\n      <th>PC17</th>\n      <th>PC18</th>\n      <th>PC19</th>\n      <th>PC20</th>\n      <th>PC21</th>\n      <th>PC22</th>\n      <th>PC23</th>\n      <th>PC24</th>\n      <th>PC25</th>\n      <th>PC26</th>\n      <th>PC27</th>\n      <th>PC28</th>\n      <th>PC29</th>\n      <th>PC30</th>\n      <th>PC31</th>\n      <th>PC32</th>\n      <th>PC33</th>\n      <th>PC34</th>\n      <th>PC35</th>\n    </tr>\n  </thead>\n  <tbody>\n    <tr>\n      <th>count</th>\n      <td>3.038000e+04</td>\n      <td>3.038000e+04</td>\n      <td>3.038000e+04</td>\n      <td>3.038000e+04</td>\n      <td>3.038000e+04</td>\n      <td>3.038000e+04</td>\n      <td>3.038000e+04</td>\n      <td>3.038000e+04</td>\n      <td>3.038000e+04</td>\n      <td>3.038000e+04</td>\n      <td>3.038000e+04</td>\n      <td>3.038000e+04</td>\n      <td>3.038000e+04</td>\n      <td>3.038000e+04</td>\n      <td>3.038000e+04</td>\n      <td>3.038000e+04</td>\n      <td>3.038000e+04</td>\n      <td>3.038000e+04</td>\n      <td>3.038000e+04</td>\n      <td>3.038000e+04</td>\n      <td>30380.000000</td>\n      <td>3.038000e+04</td>\n      <td>3.038000e+04</td>\n      <td>3.038000e+04</td>\n      <td>3.038000e+04</td>\n      <td>3.038000e+04</td>\n      <td>3.038000e+04</td>\n      <td>3.038000e+04</td>\n      <td>3.038000e+04</td>\n      <td>3.038000e+04</td>\n      <td>3.038000e+04</td>\n      <td>3.038000e+04</td>\n      <td>3.038000e+04</td>\n      <td>3.038000e+04</td>\n      <td>3.038000e+04</td>\n    </tr>\n    <tr>\n      <th>mean</th>\n      <td>4.677701e-18</td>\n      <td>-1.871080e-18</td>\n      <td>9.355401e-19</td>\n      <td>9.355401e-18</td>\n      <td>7.016551e-19</td>\n      <td>-2.338850e-18</td>\n      <td>-1.871080e-18</td>\n      <td>2.338850e-19</td>\n      <td>2.338850e-18</td>\n      <td>-1.637195e-18</td>\n      <td>-2.338850e-19</td>\n      <td>-7.952091e-18</td>\n      <td>2.338850e-18</td>\n      <td>-7.016551e-19</td>\n      <td>-6.548781e-18</td>\n      <td>-9.355401e-19</td>\n      <td>7.016551e-19</td>\n      <td>-9.355401e-18</td>\n      <td>1.777526e-17</td>\n      <td>9.589286e-18</td>\n      <td>0.000000</td>\n      <td>6.548781e-18</td>\n      <td>-7.016551e-18</td>\n      <td>-1.379922e-17</td>\n      <td>3.274390e-18</td>\n      <td>3.742161e-18</td>\n      <td>1.169425e-18</td>\n      <td>9.355401e-19</td>\n      <td>-8.185976e-19</td>\n      <td>-1.637195e-18</td>\n      <td>-1.871080e-18</td>\n      <td>1.520253e-18</td>\n      <td>-2.455793e-18</td>\n      <td>-3.508276e-19</td>\n      <td>-5.847126e-19</td>\n    </tr>\n    <tr>\n      <th>std</th>\n      <td>3.334941e+00</td>\n      <td>3.298840e+00</td>\n      <td>2.216670e+00</td>\n      <td>2.148089e+00</td>\n      <td>1.802736e+00</td>\n      <td>1.648744e+00</td>\n      <td>1.540915e+00</td>\n      <td>1.493108e+00</td>\n      <td>1.386848e+00</td>\n      <td>1.299108e+00</td>\n      <td>1.233987e+00</td>\n      <td>1.098409e+00</td>\n      <td>1.027376e+00</td>\n      <td>1.021177e+00</td>\n      <td>1.009374e+00</td>\n      <td>1.001917e+00</td>\n      <td>1.000064e+00</td>\n      <td>9.996581e-01</td>\n      <td>9.963366e-01</td>\n      <td>9.867328e-01</td>\n      <td>0.979587</td>\n      <td>9.707967e-01</td>\n      <td>9.667075e-01</td>\n      <td>9.059941e-01</td>\n      <td>8.876284e-01</td>\n      <td>8.669272e-01</td>\n      <td>7.836200e-01</td>\n      <td>6.804673e-01</td>\n      <td>6.315545e-01</td>\n      <td>6.202831e-01</td>\n      <td>5.662040e-01</td>\n      <td>5.595335e-01</td>\n      <td>4.147146e-01</td>\n      <td>3.538724e-01</td>\n      <td>2.815011e-01</td>\n    </tr>\n    <tr>\n      <th>min</th>\n      <td>-5.425120e+01</td>\n      <td>-1.769364e+02</td>\n      <td>-2.526207e+01</td>\n      <td>-9.184092e+01</td>\n      <td>-2.370756e+01</td>\n      <td>-9.753875e+01</td>\n      <td>-8.435760e+01</td>\n      <td>-5.908563e+01</td>\n      <td>-8.188391e+01</td>\n      <td>-2.228986e+00</td>\n      <td>-2.642795e+01</td>\n      <td>-1.391913e+01</td>\n      <td>-3.160745e+01</td>\n      <td>-6.012955e+01</td>\n      <td>-3.269279e+01</td>\n      <td>-2.457679e+01</td>\n      <td>-2.071078e+01</td>\n      <td>-4.903698e+01</td>\n      <td>-4.878407e+01</td>\n      <td>-2.987395e+01</td>\n      <td>-63.985748</td>\n      <td>-6.939957e+01</td>\n      <td>-4.551679e+01</td>\n      <td>-2.252404e+01</td>\n      <td>-6.128162e+01</td>\n      <td>-5.749838e+01</td>\n      <td>-4.805139e+01</td>\n      <td>-1.706337e+01</td>\n      <td>-4.125010e+01</td>\n      <td>-1.469148e+01</td>\n      <td>-3.883726e+01</td>\n      <td>-3.680663e+01</td>\n      <td>-3.550694e+01</td>\n      <td>-5.485385e+00</td>\n      <td>-1.859767e+01</td>\n    </tr>\n    <tr>\n      <th>25%</th>\n      <td>-1.670564e-02</td>\n      <td>-1.036426e-01</td>\n      <td>-6.263856e-02</td>\n      <td>-5.654191e-02</td>\n      <td>-1.108568e-01</td>\n      <td>-2.609797e-02</td>\n      <td>-5.575304e-02</td>\n      <td>-3.125645e-02</td>\n      <td>-3.416832e-02</td>\n      <td>-3.197118e-02</td>\n      <td>-2.252192e-02</td>\n      <td>-4.868247e-01</td>\n      <td>-8.143005e-02</td>\n      <td>-1.014860e-01</td>\n      <td>-5.050545e-01</td>\n      <td>-3.740067e-01</td>\n      <td>-2.575278e-02</td>\n      <td>-1.193592e-01</td>\n      <td>-5.463885e-01</td>\n      <td>-1.735993e-01</td>\n      <td>-0.019737</td>\n      <td>-1.224642e-01</td>\n      <td>-1.911097e-01</td>\n      <td>-3.485367e-01</td>\n      <td>-1.370283e-01</td>\n      <td>-2.236025e-01</td>\n      <td>-2.717968e-02</td>\n      <td>-1.375735e-02</td>\n      <td>-1.723946e-02</td>\n      <td>-1.755595e-02</td>\n      <td>-1.577510e-02</td>\n      <td>-3.568936e-03</td>\n      <td>-2.506179e-02</td>\n      <td>-1.517617e-02</td>\n      <td>-8.621185e-03</td>\n    </tr>\n    <tr>\n      <th>50%</th>\n      <td>-1.305871e-02</td>\n      <td>-5.914673e-02</td>\n      <td>-5.207079e-02</td>\n      <td>-1.102797e-02</td>\n      <td>-5.826783e-02</td>\n      <td>-1.275411e-02</td>\n      <td>-1.112464e-02</td>\n      <td>-2.099583e-02</td>\n      <td>-1.052535e-02</td>\n      <td>-1.206288e-02</td>\n      <td>-1.118930e-02</td>\n      <td>-5.799707e-02</td>\n      <td>-1.362257e-02</td>\n      <td>-1.367051e-02</td>\n      <td>-4.735020e-03</td>\n      <td>-1.684481e-02</td>\n      <td>-3.760690e-03</td>\n      <td>-1.889332e-02</td>\n      <td>-1.251269e-02</td>\n      <td>-4.316616e-03</td>\n      <td>-0.000651</td>\n      <td>-2.124446e-04</td>\n      <td>-1.046267e-02</td>\n      <td>-3.325429e-02</td>\n      <td>2.576643e-03</td>\n      <td>2.579669e-03</td>\n      <td>-1.169803e-02</td>\n      <td>-5.538303e-03</td>\n      <td>4.818038e-04</td>\n      <td>-6.450773e-03</td>\n      <td>2.372827e-03</td>\n      <td>4.795922e-04</td>\n      <td>-4.778332e-03</td>\n      <td>-2.355490e-03</td>\n      <td>-3.078354e-04</td>\n    </tr>\n    <tr>\n      <th>75%</th>\n      <td>-9.320174e-03</td>\n      <td>1.362774e-03</td>\n      <td>-3.806431e-02</td>\n      <td>3.793784e-02</td>\n      <td>-9.362588e-04</td>\n      <td>4.179651e-03</td>\n      <td>4.019635e-02</td>\n      <td>-1.055744e-02</td>\n      <td>1.894798e-02</td>\n      <td>8.438778e-03</td>\n      <td>4.244033e-04</td>\n      <td>3.631733e-01</td>\n      <td>5.273083e-02</td>\n      <td>7.534419e-02</td>\n      <td>4.933845e-01</td>\n      <td>3.352918e-01</td>\n      <td>1.986603e-02</td>\n      <td>7.859780e-02</td>\n      <td>5.283291e-01</td>\n      <td>1.626946e-01</td>\n      <td>0.017417</td>\n      <td>1.221295e-01</td>\n      <td>1.710520e-01</td>\n      <td>3.144925e-01</td>\n      <td>1.350938e-01</td>\n      <td>2.145251e-01</td>\n      <td>4.471327e-03</td>\n      <td>3.469702e-03</td>\n      <td>2.106782e-02</td>\n      <td>4.312265e-03</td>\n      <td>2.019711e-02</td>\n      <td>4.383797e-03</td>\n      <td>1.570597e-02</td>\n      <td>9.545325e-03</td>\n      <td>6.657200e-03</td>\n    </tr>\n    <tr>\n      <th>max</th>\n      <td>5.697776e+02</td>\n      <td>4.293517e+02</td>\n      <td>2.696642e+02</td>\n      <td>1.567306e+02</td>\n      <td>1.653531e+02</td>\n      <td>1.563989e+02</td>\n      <td>1.372117e+02</td>\n      <td>1.697716e+02</td>\n      <td>9.444763e+01</td>\n      <td>2.072238e+02</td>\n      <td>1.839796e+02</td>\n      <td>5.670828e+01</td>\n      <td>1.236411e+02</td>\n      <td>1.155124e+02</td>\n      <td>9.607916e+01</td>\n      <td>7.863389e+01</td>\n      <td>1.611561e+02</td>\n      <td>7.773624e+01</td>\n      <td>6.778283e+01</td>\n      <td>6.972168e+01</td>\n      <td>106.989457</td>\n      <td>1.099025e+02</td>\n      <td>1.339622e+02</td>\n      <td>5.829705e+01</td>\n      <td>7.603761e+01</td>\n      <td>7.068179e+01</td>\n      <td>8.409973e+01</td>\n      <td>1.059589e+02</td>\n      <td>4.358034e+01</td>\n      <td>6.853062e+01</td>\n      <td>3.946139e+01</td>\n      <td>8.878602e+01</td>\n      <td>3.808033e+01</td>\n      <td>4.332773e+01</td>\n      <td>2.927866e+01</td>\n    </tr>\n  </tbody>\n</table>\n</div>"
     },
     "metadata": {},
     "execution_count": 77
    }
   ],
   "source": [
    "X_train_reduced.describe()"
   ]
  },
  {
   "cell_type": "code",
   "execution_count": 78,
   "metadata": {},
   "outputs": [
    {
     "output_type": "execute_result",
     "data": {
      "text/plain": [
       "array([0.17109944, 0.16741514, 0.07559177, 0.0709867 , 0.04999618,\n",
       "       0.04181951, 0.03652834, 0.0342969 , 0.02958897, 0.02596346,\n",
       "       0.02342575, 0.01856098, 0.01623794, 0.01604257, 0.01567389,\n",
       "       0.01544315, 0.01538607, 0.01537359, 0.0152716 , 0.01497861,\n",
       "       0.01476246, 0.01449869, 0.01437681, 0.01262767, 0.0121209 ,\n",
       "       0.01156212, 0.00944677, 0.00712339, 0.00613612, 0.00591905,\n",
       "       0.00493195, 0.00481642, 0.00264589, 0.00192649, 0.00121908])"
      ]
     },
     "metadata": {},
     "execution_count": 78
    }
   ],
   "source": [
    "pca.explained_variance_ratio_"
   ]
  },
  {
   "cell_type": "code",
   "execution_count": 79,
   "metadata": {},
   "outputs": [
    {
     "output_type": "display_data",
     "data": {
      "application/vnd.plotly.v1+json": {
       "config": {
        "plotlyServerURL": "https://plot.ly"
       },
       "data": [
        {
         "alignmentgroup": "True",
         "hovertemplate": "Principal Component=%{x}<br>Variance Ratio=%{y}<br>color=%{marker.color}<extra></extra>",
         "legendgroup": "",
         "marker": {
          "color": [
           0.17109943927756574,
           0.16741513752269666,
           0.07559177123864366,
           0.07098670480444834,
           0.049996181455279044,
           0.04181951020267519,
           0.03652834220725124,
           0.034296904600142966,
           0.029588973741022814,
           0.02596345933318534,
           0.023425750306407374,
           0.018560975256155573,
           0.016237935139079264,
           0.01604257130139036,
           0.015673894361885685,
           0.01544315403239302,
           0.015386067667498874,
           0.015373590434490549,
           0.015271597674886462,
           0.014978607447521037,
           0.014762455974801582,
           0.014498694849568379,
           0.014376810632074955,
           0.012627665707260679,
           0.0121208966519231,
           0.011562122751494456,
           0.009446769789377446,
           0.007123393418740995,
           0.006136123322833621,
           0.005919053918109925,
           0.0049319456551698984,
           0.004816422784167582,
           0.002645885008627944,
           0.0019264850775115134,
           0.001219081151725842
          ],
          "coloraxis": "coloraxis"
         },
         "name": "",
         "offsetgroup": "",
         "orientation": "v",
         "showlegend": false,
         "textposition": "auto",
         "type": "bar",
         "x": [
          "PC1",
          "PC2",
          "PC3",
          "PC4",
          "PC5",
          "PC6",
          "PC7",
          "PC8",
          "PC9",
          "PC10",
          "PC11",
          "PC12",
          "PC13",
          "PC14",
          "PC15",
          "PC16",
          "PC17",
          "PC18",
          "PC19",
          "PC20",
          "PC21",
          "PC22",
          "PC23",
          "PC24",
          "PC25",
          "PC26",
          "PC27",
          "PC28",
          "PC29",
          "PC30",
          "PC31",
          "PC32",
          "PC33",
          "PC34",
          "PC35"
         ],
         "xaxis": "x",
         "y": [
          0.17109943927756574,
          0.16741513752269666,
          0.07559177123864366,
          0.07098670480444834,
          0.049996181455279044,
          0.04181951020267519,
          0.03652834220725124,
          0.034296904600142966,
          0.029588973741022814,
          0.02596345933318534,
          0.023425750306407374,
          0.018560975256155573,
          0.016237935139079264,
          0.01604257130139036,
          0.015673894361885685,
          0.01544315403239302,
          0.015386067667498874,
          0.015373590434490549,
          0.015271597674886462,
          0.014978607447521037,
          0.014762455974801582,
          0.014498694849568379,
          0.014376810632074955,
          0.012627665707260679,
          0.0121208966519231,
          0.011562122751494456,
          0.009446769789377446,
          0.007123393418740995,
          0.006136123322833621,
          0.005919053918109925,
          0.0049319456551698984,
          0.004816422784167582,
          0.002645885008627944,
          0.0019264850775115134,
          0.001219081151725842
         ],
         "yaxis": "y"
        }
       ],
       "layout": {
        "barmode": "relative",
        "coloraxis": {
         "colorbar": {
          "title": {
           "text": "color"
          }
         },
         "colorscale": [
          [
           0,
           "lightblue"
          ],
          [
           1,
           "darkblue"
          ]
         ]
        },
        "legend": {
         "tracegroupgap": 0
        },
        "template": {
         "data": {
          "bar": [
           {
            "error_x": {
             "color": "#2a3f5f"
            },
            "error_y": {
             "color": "#2a3f5f"
            },
            "marker": {
             "line": {
              "color": "#E5ECF6",
              "width": 0.5
             }
            },
            "type": "bar"
           }
          ],
          "barpolar": [
           {
            "marker": {
             "line": {
              "color": "#E5ECF6",
              "width": 0.5
             }
            },
            "type": "barpolar"
           }
          ],
          "carpet": [
           {
            "aaxis": {
             "endlinecolor": "#2a3f5f",
             "gridcolor": "white",
             "linecolor": "white",
             "minorgridcolor": "white",
             "startlinecolor": "#2a3f5f"
            },
            "baxis": {
             "endlinecolor": "#2a3f5f",
             "gridcolor": "white",
             "linecolor": "white",
             "minorgridcolor": "white",
             "startlinecolor": "#2a3f5f"
            },
            "type": "carpet"
           }
          ],
          "choropleth": [
           {
            "colorbar": {
             "outlinewidth": 0,
             "ticks": ""
            },
            "type": "choropleth"
           }
          ],
          "contour": [
           {
            "colorbar": {
             "outlinewidth": 0,
             "ticks": ""
            },
            "colorscale": [
             [
              0,
              "#0d0887"
             ],
             [
              0.1111111111111111,
              "#46039f"
             ],
             [
              0.2222222222222222,
              "#7201a8"
             ],
             [
              0.3333333333333333,
              "#9c179e"
             ],
             [
              0.4444444444444444,
              "#bd3786"
             ],
             [
              0.5555555555555556,
              "#d8576b"
             ],
             [
              0.6666666666666666,
              "#ed7953"
             ],
             [
              0.7777777777777778,
              "#fb9f3a"
             ],
             [
              0.8888888888888888,
              "#fdca26"
             ],
             [
              1,
              "#f0f921"
             ]
            ],
            "type": "contour"
           }
          ],
          "contourcarpet": [
           {
            "colorbar": {
             "outlinewidth": 0,
             "ticks": ""
            },
            "type": "contourcarpet"
           }
          ],
          "heatmap": [
           {
            "colorbar": {
             "outlinewidth": 0,
             "ticks": ""
            },
            "colorscale": [
             [
              0,
              "#0d0887"
             ],
             [
              0.1111111111111111,
              "#46039f"
             ],
             [
              0.2222222222222222,
              "#7201a8"
             ],
             [
              0.3333333333333333,
              "#9c179e"
             ],
             [
              0.4444444444444444,
              "#bd3786"
             ],
             [
              0.5555555555555556,
              "#d8576b"
             ],
             [
              0.6666666666666666,
              "#ed7953"
             ],
             [
              0.7777777777777778,
              "#fb9f3a"
             ],
             [
              0.8888888888888888,
              "#fdca26"
             ],
             [
              1,
              "#f0f921"
             ]
            ],
            "type": "heatmap"
           }
          ],
          "heatmapgl": [
           {
            "colorbar": {
             "outlinewidth": 0,
             "ticks": ""
            },
            "colorscale": [
             [
              0,
              "#0d0887"
             ],
             [
              0.1111111111111111,
              "#46039f"
             ],
             [
              0.2222222222222222,
              "#7201a8"
             ],
             [
              0.3333333333333333,
              "#9c179e"
             ],
             [
              0.4444444444444444,
              "#bd3786"
             ],
             [
              0.5555555555555556,
              "#d8576b"
             ],
             [
              0.6666666666666666,
              "#ed7953"
             ],
             [
              0.7777777777777778,
              "#fb9f3a"
             ],
             [
              0.8888888888888888,
              "#fdca26"
             ],
             [
              1,
              "#f0f921"
             ]
            ],
            "type": "heatmapgl"
           }
          ],
          "histogram": [
           {
            "marker": {
             "colorbar": {
              "outlinewidth": 0,
              "ticks": ""
             }
            },
            "type": "histogram"
           }
          ],
          "histogram2d": [
           {
            "colorbar": {
             "outlinewidth": 0,
             "ticks": ""
            },
            "colorscale": [
             [
              0,
              "#0d0887"
             ],
             [
              0.1111111111111111,
              "#46039f"
             ],
             [
              0.2222222222222222,
              "#7201a8"
             ],
             [
              0.3333333333333333,
              "#9c179e"
             ],
             [
              0.4444444444444444,
              "#bd3786"
             ],
             [
              0.5555555555555556,
              "#d8576b"
             ],
             [
              0.6666666666666666,
              "#ed7953"
             ],
             [
              0.7777777777777778,
              "#fb9f3a"
             ],
             [
              0.8888888888888888,
              "#fdca26"
             ],
             [
              1,
              "#f0f921"
             ]
            ],
            "type": "histogram2d"
           }
          ],
          "histogram2dcontour": [
           {
            "colorbar": {
             "outlinewidth": 0,
             "ticks": ""
            },
            "colorscale": [
             [
              0,
              "#0d0887"
             ],
             [
              0.1111111111111111,
              "#46039f"
             ],
             [
              0.2222222222222222,
              "#7201a8"
             ],
             [
              0.3333333333333333,
              "#9c179e"
             ],
             [
              0.4444444444444444,
              "#bd3786"
             ],
             [
              0.5555555555555556,
              "#d8576b"
             ],
             [
              0.6666666666666666,
              "#ed7953"
             ],
             [
              0.7777777777777778,
              "#fb9f3a"
             ],
             [
              0.8888888888888888,
              "#fdca26"
             ],
             [
              1,
              "#f0f921"
             ]
            ],
            "type": "histogram2dcontour"
           }
          ],
          "mesh3d": [
           {
            "colorbar": {
             "outlinewidth": 0,
             "ticks": ""
            },
            "type": "mesh3d"
           }
          ],
          "parcoords": [
           {
            "line": {
             "colorbar": {
              "outlinewidth": 0,
              "ticks": ""
             }
            },
            "type": "parcoords"
           }
          ],
          "pie": [
           {
            "automargin": true,
            "type": "pie"
           }
          ],
          "scatter": [
           {
            "marker": {
             "colorbar": {
              "outlinewidth": 0,
              "ticks": ""
             }
            },
            "type": "scatter"
           }
          ],
          "scatter3d": [
           {
            "line": {
             "colorbar": {
              "outlinewidth": 0,
              "ticks": ""
             }
            },
            "marker": {
             "colorbar": {
              "outlinewidth": 0,
              "ticks": ""
             }
            },
            "type": "scatter3d"
           }
          ],
          "scattercarpet": [
           {
            "marker": {
             "colorbar": {
              "outlinewidth": 0,
              "ticks": ""
             }
            },
            "type": "scattercarpet"
           }
          ],
          "scattergeo": [
           {
            "marker": {
             "colorbar": {
              "outlinewidth": 0,
              "ticks": ""
             }
            },
            "type": "scattergeo"
           }
          ],
          "scattergl": [
           {
            "marker": {
             "colorbar": {
              "outlinewidth": 0,
              "ticks": ""
             }
            },
            "type": "scattergl"
           }
          ],
          "scattermapbox": [
           {
            "marker": {
             "colorbar": {
              "outlinewidth": 0,
              "ticks": ""
             }
            },
            "type": "scattermapbox"
           }
          ],
          "scatterpolar": [
           {
            "marker": {
             "colorbar": {
              "outlinewidth": 0,
              "ticks": ""
             }
            },
            "type": "scatterpolar"
           }
          ],
          "scatterpolargl": [
           {
            "marker": {
             "colorbar": {
              "outlinewidth": 0,
              "ticks": ""
             }
            },
            "type": "scatterpolargl"
           }
          ],
          "scatterternary": [
           {
            "marker": {
             "colorbar": {
              "outlinewidth": 0,
              "ticks": ""
             }
            },
            "type": "scatterternary"
           }
          ],
          "surface": [
           {
            "colorbar": {
             "outlinewidth": 0,
             "ticks": ""
            },
            "colorscale": [
             [
              0,
              "#0d0887"
             ],
             [
              0.1111111111111111,
              "#46039f"
             ],
             [
              0.2222222222222222,
              "#7201a8"
             ],
             [
              0.3333333333333333,
              "#9c179e"
             ],
             [
              0.4444444444444444,
              "#bd3786"
             ],
             [
              0.5555555555555556,
              "#d8576b"
             ],
             [
              0.6666666666666666,
              "#ed7953"
             ],
             [
              0.7777777777777778,
              "#fb9f3a"
             ],
             [
              0.8888888888888888,
              "#fdca26"
             ],
             [
              1,
              "#f0f921"
             ]
            ],
            "type": "surface"
           }
          ],
          "table": [
           {
            "cells": {
             "fill": {
              "color": "#EBF0F8"
             },
             "line": {
              "color": "white"
             }
            },
            "header": {
             "fill": {
              "color": "#C8D4E3"
             },
             "line": {
              "color": "white"
             }
            },
            "type": "table"
           }
          ]
         },
         "layout": {
          "annotationdefaults": {
           "arrowcolor": "#2a3f5f",
           "arrowhead": 0,
           "arrowwidth": 1
          },
          "autotypenumbers": "strict",
          "coloraxis": {
           "colorbar": {
            "outlinewidth": 0,
            "ticks": ""
           }
          },
          "colorscale": {
           "diverging": [
            [
             0,
             "#8e0152"
            ],
            [
             0.1,
             "#c51b7d"
            ],
            [
             0.2,
             "#de77ae"
            ],
            [
             0.3,
             "#f1b6da"
            ],
            [
             0.4,
             "#fde0ef"
            ],
            [
             0.5,
             "#f7f7f7"
            ],
            [
             0.6,
             "#e6f5d0"
            ],
            [
             0.7,
             "#b8e186"
            ],
            [
             0.8,
             "#7fbc41"
            ],
            [
             0.9,
             "#4d9221"
            ],
            [
             1,
             "#276419"
            ]
           ],
           "sequential": [
            [
             0,
             "#0d0887"
            ],
            [
             0.1111111111111111,
             "#46039f"
            ],
            [
             0.2222222222222222,
             "#7201a8"
            ],
            [
             0.3333333333333333,
             "#9c179e"
            ],
            [
             0.4444444444444444,
             "#bd3786"
            ],
            [
             0.5555555555555556,
             "#d8576b"
            ],
            [
             0.6666666666666666,
             "#ed7953"
            ],
            [
             0.7777777777777778,
             "#fb9f3a"
            ],
            [
             0.8888888888888888,
             "#fdca26"
            ],
            [
             1,
             "#f0f921"
            ]
           ],
           "sequentialminus": [
            [
             0,
             "#0d0887"
            ],
            [
             0.1111111111111111,
             "#46039f"
            ],
            [
             0.2222222222222222,
             "#7201a8"
            ],
            [
             0.3333333333333333,
             "#9c179e"
            ],
            [
             0.4444444444444444,
             "#bd3786"
            ],
            [
             0.5555555555555556,
             "#d8576b"
            ],
            [
             0.6666666666666666,
             "#ed7953"
            ],
            [
             0.7777777777777778,
             "#fb9f3a"
            ],
            [
             0.8888888888888888,
             "#fdca26"
            ],
            [
             1,
             "#f0f921"
            ]
           ]
          },
          "colorway": [
           "#636efa",
           "#EF553B",
           "#00cc96",
           "#ab63fa",
           "#FFA15A",
           "#19d3f3",
           "#FF6692",
           "#B6E880",
           "#FF97FF",
           "#FECB52"
          ],
          "font": {
           "color": "#2a3f5f"
          },
          "geo": {
           "bgcolor": "white",
           "lakecolor": "white",
           "landcolor": "#E5ECF6",
           "showlakes": true,
           "showland": true,
           "subunitcolor": "white"
          },
          "hoverlabel": {
           "align": "left"
          },
          "hovermode": "closest",
          "mapbox": {
           "style": "light"
          },
          "paper_bgcolor": "white",
          "plot_bgcolor": "#E5ECF6",
          "polar": {
           "angularaxis": {
            "gridcolor": "white",
            "linecolor": "white",
            "ticks": ""
           },
           "bgcolor": "#E5ECF6",
           "radialaxis": {
            "gridcolor": "white",
            "linecolor": "white",
            "ticks": ""
           }
          },
          "scene": {
           "xaxis": {
            "backgroundcolor": "#E5ECF6",
            "gridcolor": "white",
            "gridwidth": 2,
            "linecolor": "white",
            "showbackground": true,
            "ticks": "",
            "zerolinecolor": "white"
           },
           "yaxis": {
            "backgroundcolor": "#E5ECF6",
            "gridcolor": "white",
            "gridwidth": 2,
            "linecolor": "white",
            "showbackground": true,
            "ticks": "",
            "zerolinecolor": "white"
           },
           "zaxis": {
            "backgroundcolor": "#E5ECF6",
            "gridcolor": "white",
            "gridwidth": 2,
            "linecolor": "white",
            "showbackground": true,
            "ticks": "",
            "zerolinecolor": "white"
           }
          },
          "shapedefaults": {
           "line": {
            "color": "#2a3f5f"
           }
          },
          "ternary": {
           "aaxis": {
            "gridcolor": "white",
            "linecolor": "white",
            "ticks": ""
           },
           "baxis": {
            "gridcolor": "white",
            "linecolor": "white",
            "ticks": ""
           },
           "bgcolor": "#E5ECF6",
           "caxis": {
            "gridcolor": "white",
            "linecolor": "white",
            "ticks": ""
           }
          },
          "title": {
           "x": 0.05
          },
          "xaxis": {
           "automargin": true,
           "gridcolor": "white",
           "linecolor": "white",
           "ticks": "",
           "title": {
            "standoff": 15
           },
           "zerolinecolor": "white",
           "zerolinewidth": 2
          },
          "yaxis": {
           "automargin": true,
           "gridcolor": "white",
           "linecolor": "white",
           "ticks": "",
           "title": {
            "standoff": 15
           },
           "zerolinecolor": "white",
           "zerolinewidth": 2
          }
         }
        },
        "title": {
         "text": "Proportion of Variance in Principal Components"
        },
        "xaxis": {
         "anchor": "y",
         "domain": [
          0,
          1
         ],
         "title": {
          "text": "Principal Component"
         }
        },
        "yaxis": {
         "anchor": "x",
         "domain": [
          0,
          1
         ],
         "title": {
          "text": "Variance Ratio"
         }
        }
       }
      }
     },
     "metadata": {}
    }
   ],
   "source": [
    "fig = px.bar(\n",
    "    x=[\"PC\" + str(i) for i in range(1, n_components + 1)],\n",
    "    y=pca.explained_variance_ratio_,\n",
    "    labels={'x': \"Principal Component\", 'y': \"Variance Ratio\"},\n",
    "    color=pca.explained_variance_ratio_,\n",
    "    color_continuous_scale=[(0, 'lightblue'), (1, 'darkblue')],\n",
    "    title=\"Proportion of Variance in Principal Components\"\n",
    ")\n",
    "\n",
    "fig.show()"
   ]
  },
  {
   "cell_type": "code",
   "execution_count": 80,
   "metadata": {},
   "outputs": [
    {
     "output_type": "stream",
     "name": "stderr",
     "text": [
      "C:\\Users\\bhagy\\AppData\\Roaming\\Python\\Python39\\site-packages\\sklearn\\linear_model\\_logistic.py:763: ConvergenceWarning:\n",
      "\n",
      "lbfgs failed to converge (status=1):\n",
      "STOP: TOTAL NO. of ITERATIONS REACHED LIMIT.\n",
      "\n",
      "Increase the number of iterations (max_iter) or scale the data as shown in:\n",
      "    https://scikit-learn.org/stable/modules/preprocessing.html\n",
      "Please also refer to the documentation for alternative solver options:\n",
      "    https://scikit-learn.org/stable/modules/linear_model.html#logistic-regression\n",
      "\n",
      " Logistic Regression trained.\n",
      "RandomForestClassifier trained.\n",
      "Gradient Boosting trained.\n"
     ]
    }
   ],
   "source": [
    "reduced_models = {\n",
    "    \" Logistic Regression\": LogisticRegression(),\n",
    "    \"RandomForestClassifier\" : RandomForestClassifier(),\n",
    "    \"Gradient Boosting\": GradientBoostingClassifier()\n",
    "}\n",
    "for name, model in reduced_models.items():\n",
    "    model.fit(X_train_reduced, y_train)\n",
    "    print(name + \" trained.\")"
   ]
  },
  {
   "cell_type": "code",
   "execution_count": 82,
   "metadata": {},
   "outputs": [
    {
     "output_type": "stream",
     "name": "stdout",
     "text": [
      " Logistic Regression: 95.22%\n",
      "RandomForestClassifier: 96.30%\n",
      "Gradient Boosting: 95.98%\n"
     ]
    }
   ],
   "source": [
    "reduced_results = []\n",
    "\n",
    "for name, model in reduced_models.items():\n",
    "    result = model.score(X_test_reduced, y_test)\n",
    "    reduced_results.append(result)\n",
    "    print(name + \": {:.2f}%\".format(result * 100))"
   ]
  },
  {
   "cell_type": "code",
   "execution_count": 83,
   "metadata": {},
   "outputs": [
    {
     "output_type": "display_data",
     "data": {
      "application/vnd.plotly.v1+json": {
       "config": {
        "plotlyServerURL": "https://plot.ly"
       },
       "data": [
        {
         "alignmentgroup": "True",
         "hovertemplate": "Change in Performance=%{x}<br>Model=%{y}<br>color=%{marker.color}<extra></extra>",
         "legendgroup": "",
         "marker": {
          "color": [
           0.0007679901697257296,
           -0.007526303663313083,
           -0.039551493740880184
          ],
          "coloraxis": "coloraxis"
         },
         "name": "",
         "offsetgroup": "",
         "orientation": "h",
         "showlegend": false,
         "textposition": "auto",
         "type": "bar",
         "x": [
          0.0007679901697257296,
          -0.007526303663313083,
          -0.039551493740880184
         ],
         "xaxis": "x",
         "y": [
          "Logistic Regression",
          "RandomForestClassifier",
          "Gradient Boosting"
         ],
         "yaxis": "y"
        }
       ],
       "layout": {
        "barmode": "relative",
        "coloraxis": {
         "colorbar": {
          "title": {
           "text": "color"
          }
         },
         "colorscale": [
          [
           0,
           "red"
          ],
          [
           1,
           "blue"
          ]
         ]
        },
        "legend": {
         "tracegroupgap": 0
        },
        "template": {
         "data": {
          "bar": [
           {
            "error_x": {
             "color": "#2a3f5f"
            },
            "error_y": {
             "color": "#2a3f5f"
            },
            "marker": {
             "line": {
              "color": "#E5ECF6",
              "width": 0.5
             }
            },
            "type": "bar"
           }
          ],
          "barpolar": [
           {
            "marker": {
             "line": {
              "color": "#E5ECF6",
              "width": 0.5
             }
            },
            "type": "barpolar"
           }
          ],
          "carpet": [
           {
            "aaxis": {
             "endlinecolor": "#2a3f5f",
             "gridcolor": "white",
             "linecolor": "white",
             "minorgridcolor": "white",
             "startlinecolor": "#2a3f5f"
            },
            "baxis": {
             "endlinecolor": "#2a3f5f",
             "gridcolor": "white",
             "linecolor": "white",
             "minorgridcolor": "white",
             "startlinecolor": "#2a3f5f"
            },
            "type": "carpet"
           }
          ],
          "choropleth": [
           {
            "colorbar": {
             "outlinewidth": 0,
             "ticks": ""
            },
            "type": "choropleth"
           }
          ],
          "contour": [
           {
            "colorbar": {
             "outlinewidth": 0,
             "ticks": ""
            },
            "colorscale": [
             [
              0,
              "#0d0887"
             ],
             [
              0.1111111111111111,
              "#46039f"
             ],
             [
              0.2222222222222222,
              "#7201a8"
             ],
             [
              0.3333333333333333,
              "#9c179e"
             ],
             [
              0.4444444444444444,
              "#bd3786"
             ],
             [
              0.5555555555555556,
              "#d8576b"
             ],
             [
              0.6666666666666666,
              "#ed7953"
             ],
             [
              0.7777777777777778,
              "#fb9f3a"
             ],
             [
              0.8888888888888888,
              "#fdca26"
             ],
             [
              1,
              "#f0f921"
             ]
            ],
            "type": "contour"
           }
          ],
          "contourcarpet": [
           {
            "colorbar": {
             "outlinewidth": 0,
             "ticks": ""
            },
            "type": "contourcarpet"
           }
          ],
          "heatmap": [
           {
            "colorbar": {
             "outlinewidth": 0,
             "ticks": ""
            },
            "colorscale": [
             [
              0,
              "#0d0887"
             ],
             [
              0.1111111111111111,
              "#46039f"
             ],
             [
              0.2222222222222222,
              "#7201a8"
             ],
             [
              0.3333333333333333,
              "#9c179e"
             ],
             [
              0.4444444444444444,
              "#bd3786"
             ],
             [
              0.5555555555555556,
              "#d8576b"
             ],
             [
              0.6666666666666666,
              "#ed7953"
             ],
             [
              0.7777777777777778,
              "#fb9f3a"
             ],
             [
              0.8888888888888888,
              "#fdca26"
             ],
             [
              1,
              "#f0f921"
             ]
            ],
            "type": "heatmap"
           }
          ],
          "heatmapgl": [
           {
            "colorbar": {
             "outlinewidth": 0,
             "ticks": ""
            },
            "colorscale": [
             [
              0,
              "#0d0887"
             ],
             [
              0.1111111111111111,
              "#46039f"
             ],
             [
              0.2222222222222222,
              "#7201a8"
             ],
             [
              0.3333333333333333,
              "#9c179e"
             ],
             [
              0.4444444444444444,
              "#bd3786"
             ],
             [
              0.5555555555555556,
              "#d8576b"
             ],
             [
              0.6666666666666666,
              "#ed7953"
             ],
             [
              0.7777777777777778,
              "#fb9f3a"
             ],
             [
              0.8888888888888888,
              "#fdca26"
             ],
             [
              1,
              "#f0f921"
             ]
            ],
            "type": "heatmapgl"
           }
          ],
          "histogram": [
           {
            "marker": {
             "colorbar": {
              "outlinewidth": 0,
              "ticks": ""
             }
            },
            "type": "histogram"
           }
          ],
          "histogram2d": [
           {
            "colorbar": {
             "outlinewidth": 0,
             "ticks": ""
            },
            "colorscale": [
             [
              0,
              "#0d0887"
             ],
             [
              0.1111111111111111,
              "#46039f"
             ],
             [
              0.2222222222222222,
              "#7201a8"
             ],
             [
              0.3333333333333333,
              "#9c179e"
             ],
             [
              0.4444444444444444,
              "#bd3786"
             ],
             [
              0.5555555555555556,
              "#d8576b"
             ],
             [
              0.6666666666666666,
              "#ed7953"
             ],
             [
              0.7777777777777778,
              "#fb9f3a"
             ],
             [
              0.8888888888888888,
              "#fdca26"
             ],
             [
              1,
              "#f0f921"
             ]
            ],
            "type": "histogram2d"
           }
          ],
          "histogram2dcontour": [
           {
            "colorbar": {
             "outlinewidth": 0,
             "ticks": ""
            },
            "colorscale": [
             [
              0,
              "#0d0887"
             ],
             [
              0.1111111111111111,
              "#46039f"
             ],
             [
              0.2222222222222222,
              "#7201a8"
             ],
             [
              0.3333333333333333,
              "#9c179e"
             ],
             [
              0.4444444444444444,
              "#bd3786"
             ],
             [
              0.5555555555555556,
              "#d8576b"
             ],
             [
              0.6666666666666666,
              "#ed7953"
             ],
             [
              0.7777777777777778,
              "#fb9f3a"
             ],
             [
              0.8888888888888888,
              "#fdca26"
             ],
             [
              1,
              "#f0f921"
             ]
            ],
            "type": "histogram2dcontour"
           }
          ],
          "mesh3d": [
           {
            "colorbar": {
             "outlinewidth": 0,
             "ticks": ""
            },
            "type": "mesh3d"
           }
          ],
          "parcoords": [
           {
            "line": {
             "colorbar": {
              "outlinewidth": 0,
              "ticks": ""
             }
            },
            "type": "parcoords"
           }
          ],
          "pie": [
           {
            "automargin": true,
            "type": "pie"
           }
          ],
          "scatter": [
           {
            "marker": {
             "colorbar": {
              "outlinewidth": 0,
              "ticks": ""
             }
            },
            "type": "scatter"
           }
          ],
          "scatter3d": [
           {
            "line": {
             "colorbar": {
              "outlinewidth": 0,
              "ticks": ""
             }
            },
            "marker": {
             "colorbar": {
              "outlinewidth": 0,
              "ticks": ""
             }
            },
            "type": "scatter3d"
           }
          ],
          "scattercarpet": [
           {
            "marker": {
             "colorbar": {
              "outlinewidth": 0,
              "ticks": ""
             }
            },
            "type": "scattercarpet"
           }
          ],
          "scattergeo": [
           {
            "marker": {
             "colorbar": {
              "outlinewidth": 0,
              "ticks": ""
             }
            },
            "type": "scattergeo"
           }
          ],
          "scattergl": [
           {
            "marker": {
             "colorbar": {
              "outlinewidth": 0,
              "ticks": ""
             }
            },
            "type": "scattergl"
           }
          ],
          "scattermapbox": [
           {
            "marker": {
             "colorbar": {
              "outlinewidth": 0,
              "ticks": ""
             }
            },
            "type": "scattermapbox"
           }
          ],
          "scatterpolar": [
           {
            "marker": {
             "colorbar": {
              "outlinewidth": 0,
              "ticks": ""
             }
            },
            "type": "scatterpolar"
           }
          ],
          "scatterpolargl": [
           {
            "marker": {
             "colorbar": {
              "outlinewidth": 0,
              "ticks": ""
             }
            },
            "type": "scatterpolargl"
           }
          ],
          "scatterternary": [
           {
            "marker": {
             "colorbar": {
              "outlinewidth": 0,
              "ticks": ""
             }
            },
            "type": "scatterternary"
           }
          ],
          "surface": [
           {
            "colorbar": {
             "outlinewidth": 0,
             "ticks": ""
            },
            "colorscale": [
             [
              0,
              "#0d0887"
             ],
             [
              0.1111111111111111,
              "#46039f"
             ],
             [
              0.2222222222222222,
              "#7201a8"
             ],
             [
              0.3333333333333333,
              "#9c179e"
             ],
             [
              0.4444444444444444,
              "#bd3786"
             ],
             [
              0.5555555555555556,
              "#d8576b"
             ],
             [
              0.6666666666666666,
              "#ed7953"
             ],
             [
              0.7777777777777778,
              "#fb9f3a"
             ],
             [
              0.8888888888888888,
              "#fdca26"
             ],
             [
              1,
              "#f0f921"
             ]
            ],
            "type": "surface"
           }
          ],
          "table": [
           {
            "cells": {
             "fill": {
              "color": "#EBF0F8"
             },
             "line": {
              "color": "white"
             }
            },
            "header": {
             "fill": {
              "color": "#C8D4E3"
             },
             "line": {
              "color": "white"
             }
            },
            "type": "table"
           }
          ]
         },
         "layout": {
          "annotationdefaults": {
           "arrowcolor": "#2a3f5f",
           "arrowhead": 0,
           "arrowwidth": 1
          },
          "autotypenumbers": "strict",
          "coloraxis": {
           "colorbar": {
            "outlinewidth": 0,
            "ticks": ""
           }
          },
          "colorscale": {
           "diverging": [
            [
             0,
             "#8e0152"
            ],
            [
             0.1,
             "#c51b7d"
            ],
            [
             0.2,
             "#de77ae"
            ],
            [
             0.3,
             "#f1b6da"
            ],
            [
             0.4,
             "#fde0ef"
            ],
            [
             0.5,
             "#f7f7f7"
            ],
            [
             0.6,
             "#e6f5d0"
            ],
            [
             0.7,
             "#b8e186"
            ],
            [
             0.8,
             "#7fbc41"
            ],
            [
             0.9,
             "#4d9221"
            ],
            [
             1,
             "#276419"
            ]
           ],
           "sequential": [
            [
             0,
             "#0d0887"
            ],
            [
             0.1111111111111111,
             "#46039f"
            ],
            [
             0.2222222222222222,
             "#7201a8"
            ],
            [
             0.3333333333333333,
             "#9c179e"
            ],
            [
             0.4444444444444444,
             "#bd3786"
            ],
            [
             0.5555555555555556,
             "#d8576b"
            ],
            [
             0.6666666666666666,
             "#ed7953"
            ],
            [
             0.7777777777777778,
             "#fb9f3a"
            ],
            [
             0.8888888888888888,
             "#fdca26"
            ],
            [
             1,
             "#f0f921"
            ]
           ],
           "sequentialminus": [
            [
             0,
             "#0d0887"
            ],
            [
             0.1111111111111111,
             "#46039f"
            ],
            [
             0.2222222222222222,
             "#7201a8"
            ],
            [
             0.3333333333333333,
             "#9c179e"
            ],
            [
             0.4444444444444444,
             "#bd3786"
            ],
            [
             0.5555555555555556,
             "#d8576b"
            ],
            [
             0.6666666666666666,
             "#ed7953"
            ],
            [
             0.7777777777777778,
             "#fb9f3a"
            ],
            [
             0.8888888888888888,
             "#fdca26"
            ],
            [
             1,
             "#f0f921"
            ]
           ]
          },
          "colorway": [
           "#636efa",
           "#EF553B",
           "#00cc96",
           "#ab63fa",
           "#FFA15A",
           "#19d3f3",
           "#FF6692",
           "#B6E880",
           "#FF97FF",
           "#FECB52"
          ],
          "font": {
           "color": "#2a3f5f"
          },
          "geo": {
           "bgcolor": "white",
           "lakecolor": "white",
           "landcolor": "#E5ECF6",
           "showlakes": true,
           "showland": true,
           "subunitcolor": "white"
          },
          "hoverlabel": {
           "align": "left"
          },
          "hovermode": "closest",
          "mapbox": {
           "style": "light"
          },
          "paper_bgcolor": "white",
          "plot_bgcolor": "#E5ECF6",
          "polar": {
           "angularaxis": {
            "gridcolor": "white",
            "linecolor": "white",
            "ticks": ""
           },
           "bgcolor": "#E5ECF6",
           "radialaxis": {
            "gridcolor": "white",
            "linecolor": "white",
            "ticks": ""
           }
          },
          "scene": {
           "xaxis": {
            "backgroundcolor": "#E5ECF6",
            "gridcolor": "white",
            "gridwidth": 2,
            "linecolor": "white",
            "showbackground": true,
            "ticks": "",
            "zerolinecolor": "white"
           },
           "yaxis": {
            "backgroundcolor": "#E5ECF6",
            "gridcolor": "white",
            "gridwidth": 2,
            "linecolor": "white",
            "showbackground": true,
            "ticks": "",
            "zerolinecolor": "white"
           },
           "zaxis": {
            "backgroundcolor": "#E5ECF6",
            "gridcolor": "white",
            "gridwidth": 2,
            "linecolor": "white",
            "showbackground": true,
            "ticks": "",
            "zerolinecolor": "white"
           }
          },
          "shapedefaults": {
           "line": {
            "color": "#2a3f5f"
           }
          },
          "ternary": {
           "aaxis": {
            "gridcolor": "white",
            "linecolor": "white",
            "ticks": ""
           },
           "baxis": {
            "gridcolor": "white",
            "linecolor": "white",
            "ticks": ""
           },
           "bgcolor": "#E5ECF6",
           "caxis": {
            "gridcolor": "white",
            "linecolor": "white",
            "ticks": ""
           }
          },
          "title": {
           "x": 0.05
          },
          "xaxis": {
           "automargin": true,
           "gridcolor": "white",
           "linecolor": "white",
           "ticks": "",
           "title": {
            "standoff": 15
           },
           "zerolinecolor": "white",
           "zerolinewidth": 2
          },
          "yaxis": {
           "automargin": true,
           "gridcolor": "white",
           "linecolor": "white",
           "ticks": "",
           "title": {
            "standoff": 15
           },
           "zerolinecolor": "white",
           "zerolinewidth": 2
          }
         }
        },
        "title": {
         "text": "Change in Model Performance After Dimensionality Reduction"
        },
        "xaxis": {
         "anchor": "y",
         "domain": [
          0,
          1
         ],
         "title": {
          "text": "Change in Performance"
         }
        },
        "yaxis": {
         "anchor": "x",
         "domain": [
          0,
          1
         ],
         "title": {
          "text": "Model"
         }
        }
       }
      }
     },
     "metadata": {}
    }
   ],
   "source": [
    "#change in performance After PCA\n",
    "fig = px.bar(\n",
    "    x=np.subtract(reduced_results, original_results),\n",
    "    y=original_models.keys(),\n",
    "    #orientation='h',\n",
    "    labels={'x': \"Change in Performance\", 'y': \"Model\"},\n",
    "    color=np.subtract(reduced_results, original_results),\n",
    "    color_continuous_scale=[(0, 'red'), (1, 'blue')],\n",
    "    title=\"Change in Model Performance After Dimensionality Reduction\"\n",
    ")\n",
    "\n",
    "fig.show()\n"
   ]
  },
  {
   "cell_type": "code",
   "execution_count": null,
   "metadata": {},
   "outputs": [],
   "source": []
  }
 ]
}